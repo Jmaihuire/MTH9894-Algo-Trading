{
 "cells": [
  {
   "cell_type": "code",
   "execution_count": 2,
   "metadata": {
    "collapsed": true
   },
   "outputs": [],
   "source": [
    "import pandas as pd\n",
    "from pandas import TimeSeries\n",
    "import numpy as np\n",
    "import math\n",
    "from bokeh.charts import TimeSeries, output_file, show\n",
    "import statsmodels.tsa.stattools as stat\n",
    "\n",
    "from scipy import stats\n",
    "import matplotlib.pyplot as plt\n",
    "from math import *\n",
    "from datetime import datetime\n",
    "from datetime import timedelta\n",
    "\n",
    "%matplotlib inline"
   ]
  },
  {
   "cell_type": "code",
   "execution_count": 3,
   "metadata": {
    "collapsed": true
   },
   "outputs": [],
   "source": [
    "def data_process(start,period):\n",
    "    with open ('sp_500_daily_prices.csv') as data:\n",
    "        sp500=pd.read_csv(data,usecols=['date','COMNAM','PRC','RET','ASK','BID'],engine='c')\n",
    "    date=sorted(list(set(sp500['date'])))\n",
    "    try:\n",
    "        date.index(start)\n",
    "    except:\n",
    "        raise ((\"Oops! The start date is not contained in our datesets.  Try again...\"))\n",
    "    try:\n",
    "        train_start=date[-9*period+date.index(start)]\n",
    "        date[date.index(start)+period]\n",
    "    except:\n",
    "        raise (\"Oops! The period is too long.  Try again...\")\n",
    "    sp_recent=sp500[sp500['date']>=train_start]\n",
    "    sp_recent=sp_recent[sp_recent['date']<=date[date.index(start)+period]]\n",
    "    \n",
    "    with open ('sp_500_daily_return.csv') as return_data:\n",
    "        sp_ret=pd.read_csv(return_data,index_col=0,engine='c')\n",
    "    sp_ret=sp_ret.loc[date[-9*period+date.index(start)]:date[period+date.index(start)]]\n",
    "    return sp_recent,sp_ret,date"
   ]
  },
  {
   "cell_type": "code",
   "execution_count": 4,
   "metadata": {
    "collapsed": true
   },
   "outputs": [],
   "source": [
    "def filter_pair(pvalue_key,num):\n",
    "    try:\n",
    "        pvalue_key[num-1]\n",
    "    except:\n",
    "        raise(\"Oops! Too large num\")\n",
    "    selected_pair=[]\n",
    "    stock_list=[]\n",
    "    i=0\n",
    "    while i<num:\n",
    "        for pair in pvalue_key:\n",
    "            if pair[1][0] not in stock_list and pair[1][1] not in stock_list:\n",
    "                selected_pair+=[pair[1]]\n",
    "                stock_list+=[pair[1][0]]\n",
    "                stock_list+=[pair[1][1]]\n",
    "                i+=1\n",
    "    \n",
    "    return selected_pair"
   ]
  },
  {
   "cell_type": "code",
   "execution_count": 5,
   "metadata": {
    "collapsed": true
   },
   "outputs": [],
   "source": [
    "def find_pair(start,period,num):\n",
    "    sp_recent,sp_ret,date=data_process(start,period)\n",
    "    error_return=['E','D','C','B','A','']\n",
    "    sp_ret=sp_ret.applymap(lambda x:np.float64(0.0) if x in error_return else np.float64(x))\n",
    "    sp_pca=np.array(sp_ret)\n",
    "    #print(sp_pca)\n",
    "    cov_company=np.cov(sp_pca)\n",
    "    cov_company[np.isnan(cov_company)] = 0.0\n",
    "    eigen_val,eigen_vector=np.linalg.eig(cov_company)\n",
    "    eigen_vector_max=list(zip(eigen_vector[np.argmax(eigen_val)],sp_ret.columns))\n",
    "    eigen_vector_max.sort(key=lambda x:x[0],reverse=True)\n",
    "    eigen_vector_max=list(zip(*eigen_vector_max))\n",
    "    data=sp_ret[list(eigen_vector_max[1][0:20])]\n",
    "    pvalue_key=find_cointegrated_pairs(data)\n",
    "    selected_pair=filter_pair(pvalue_key,num)\n",
    "    data_inuse=sp_recent[sp_recent['date']>=date[-period+date.index(start)]]\n",
    "    data_inuse=data_inuse[data_inuse['date']<date[date.index(start)+period]]\n",
    "    data_inuse.fillna(method='ffill')\n",
    "    \n",
    "    companies=set(data_inuse['COMNAM'])\n",
    "    company_data={}\n",
    "    for company in companies:\n",
    "        company_data[company]=data_inuse[data_inuse['COMNAM']==company]\n",
    "    #print('find_pair_done')\n",
    "    return company_data,selected_pair"
   ]
  },
  {
   "cell_type": "code",
   "execution_count": 6,
   "metadata": {
    "collapsed": true
   },
   "outputs": [],
   "source": [
    "def find_cointegrated_pairs(data):\n",
    "    n = len(data.columns)\n",
    "    #score_matrix = np.zeros((n, n))\n",
    "    pvalue_key=[]\n",
    "    keys = list(data.columns)\n",
    "    #pairs = []\n",
    "    for i in range(n):\n",
    "        for j in range(i+1, n):\n",
    "            S1 = np.array(data[keys[i]])\n",
    "            S2 = np.array(data[keys[j]])\n",
    "            result = stat.coint(S1, S2)\n",
    "            #score = result[0]\n",
    "            pvalue = result[1]\n",
    "            pvalue_key+=[[pvalue,(keys[i],keys[j])]]\n",
    "            #pairs.append((keys[i], keys[j]))\n",
    "    pvalue_key=sorted(pvalue_key,key=lambda x:x[0])\n",
    "    #print('find_cointegrated_pairs_done')\n",
    "    return pvalue_key"
   ]
  },
  {
   "cell_type": "code",
   "execution_count": 7,
   "metadata": {
    "collapsed": true
   },
   "outputs": [],
   "source": [
    "start=20130910\n",
    "end=20150101\n",
    "period=60\n",
    "num_pair=10"
   ]
  },
  {
   "cell_type": "code",
   "execution_count": 40,
   "metadata": {
    "collapsed": false,
    "scrolled": true
   },
   "outputs": [
    {
     "name": "stderr",
     "output_type": "stream",
     "text": [
      "/home/xinlu/anaconda3/lib/python3.6/site-packages/IPython/core/interactiveshell.py:2881: DtypeWarning: Columns (18) have mixed types. Specify dtype option on import or set low_memory=False.\n",
      "  exec(code_obj, self.user_global_ns, self.user_ns)\n",
      "/home/xinlu/anaconda3/lib/python3.6/site-packages/IPython/core/interactiveshell.py:2881: DtypeWarning: Columns (13,17) have mixed types. Specify dtype option on import or set low_memory=False.\n",
      "  exec(code_obj, self.user_global_ns, self.user_ns)\n"
     ]
    }
   ],
   "source": [
    "data,pairs=find_pair(start,period,num_pair)"
   ]
  },
  {
   "cell_type": "code",
   "execution_count": 8,
   "metadata": {
    "collapsed": true
   },
   "outputs": [],
   "source": [
    "signal_exists = ['Y','N']         # exist, not exist\n",
    "signal_opens  = ['O', 'C']        # open, close\n",
    "signal_moves  = ['B', 'S']        # buy, sell"
   ]
  },
  {
   "cell_type": "code",
   "execution_count": 9,
   "metadata": {
    "collapsed": true
   },
   "outputs": [],
   "source": [
    "def generate_signal(priceA, priceB):\n",
    "    '''Find the trading signal in one window, default as 60 days'''\n",
    "    \n",
    "#    assert len(Areturn)==len(Breturn),\"Wrong data extraction!\"\n",
    "    assert len(priceA)==len(priceB),\"Wrong data extraction!\"\n",
    "    Areturn = np.diff(priceA)/priceA[:(len(priceA)-1)]\n",
    "    Breturn = np.diff(priceB)/priceB[:(len(priceB)-1)]\n",
    "    \n",
    "    # regression on return\n",
    "    beta, beta0, r_value, p_value, std_err = stats.linregress(Areturn, Breturn)\n",
    "\n",
    "    # get the residual epsilon_t\n",
    "    e_t = np.array(Breturn - beta0 - beta*Areturn)\n",
    "\n",
    "    Xt=[np.sum(e_t[:i+1]) for i in range(len(Areturn))]\n",
    "\n",
    "    # regression on X_t\n",
    "    length = len(Xt)\n",
    "    Xt_vec = np.array(Xt)\n",
    "    b, a, r_value_x, p_value_x, std_err_x = stats.linregress(Xt_vec[1:],Xt_vec[:length-1])\n",
    "\n",
    "    # get the residual zeta_t\n",
    "    z_t = Xt_vec[:length-1] - a - b*Xt_vec[1:]\n",
    "    var_z = np.var(z_t)\n",
    "\n",
    "    # calculate the s-score\n",
    "    s_score = -a*sqrt(1-b**2)/((1-b)*sqrt(var_z)) + int(a/(1-b))*sqrt((1-b**2)/var_z)\n",
    "\n",
    "    # trading signal\n",
    "    if s_score   < -1.25:\n",
    "        signal_open = signal_opens[0]\n",
    "        signal_move = signal_moves[0]\n",
    "    elif s_score > 1.25:\n",
    "        signal_open = signal_opens[0]\n",
    "        signal_move = signal_moves[1]\n",
    "    ### what if s_score=0 so that it satisfy both condition?\n",
    "    elif s_score < 0.5:\n",
    "        signal_open = signal_opens[1]\n",
    "        signal_move = signal_moves[0]\n",
    "    elif s_score > -0.5:\n",
    "        signal_open = signal_opens[1]\n",
    "        signal_move = signal_moves[1]\n",
    "        ### if a possible error, use try except\n",
    "    else:\n",
    "        raise('Warning!')\n",
    "\n",
    "    return beta,signal_open, signal_move"
   ]
  },
  {
   "cell_type": "code",
   "execution_count": 10,
   "metadata": {
    "collapsed": true
   },
   "outputs": [],
   "source": [
    "position_dict = {}  # static variable: 'StockA': position\n",
    "cash = 50000        # static variable\n",
    "\n",
    "\n",
    "def build_position(position_dict, cash, pairs, data):\n",
    "    '''build position for each window\n",
    "    \n",
    "    Default parameters\n",
    "    ------------------\n",
    "    shares per trade:1000\n",
    "    transaction cost fee: 0.0005\n",
    "    '''\n",
    "    # borrow cost of stock = 0.05 of short position\n",
    "    borrow_cost = 0.05\n",
    "    transaction_cost = 0.003\n",
    "    PNL = []\n",
    "    \n",
    "    \n",
    "    for i in range(60):\n",
    "        cash_old = cash\n",
    "        for pair in pairs:\n",
    "#            Areturn        = data[pair[0]]['RET'].values[i:i+60]\n",
    "#            Breturn        = data[pair[1]]['RET'].values[i:i+60]\n",
    "            priceA         = data[pair[0]]['PRC'].values[i:i+60]\n",
    "            priceB         = data[pair[1]]['PRC'].values[i:i+60]\n",
    "            tickerA        = pair[0]\n",
    "            tickerB        = pair[1]\n",
    "            BidA           = data[pair[0]]['BID'].values\n",
    "            AskA           = data[pair[0]]['ASK'].values\n",
    "            BidB           = data[pair[1]]['BID'].values\n",
    "            AskB           = data[pair[1]]['ASK'].values\n",
    "            result         = generate_signal(priceA, priceB)\n",
    "            beta           = result[0]\n",
    "            open_or_not    = result[1]\n",
    "            buy_or_sell    = result[2]\n",
    "            \n",
    "            # for A\n",
    "            if (tickerA in position_dict.keys()): \n",
    "                if open_or_not == 'C':\n",
    "                    if buy_or_sell == 'B':\n",
    "                        cash -= (AskA[i+60]+transaction_cost)*abs(position_dict[tickerA])\n",
    "                        position_dict[tickerA] = 0\n",
    "                    else:\n",
    "                        cash += (BidA[i+60]-transaction_cost)*abs(position_dict[tickerA])\n",
    "                        position_dict[tickerA] = 0\n",
    "                else:\n",
    "                    if buy_or_sell == 'B':\n",
    "                        position_dict[tickerA] -= int((cash/len(pairs))/AskB[i+60]*beta)\n",
    "                        cash += (1-borrow_cost)*(cash/len(pairs))/AskB[i+60]*beta*(BidA[i+60]-transaction_cost)\n",
    "                    else:\n",
    "                        position_dict[tickerA] += int((cash/len(pairs))/BidB[i+60]*beta)\n",
    "                        cash -= (cash/len(pairs))/BidB[i+60]*beta*(AskA[i+60]+transaction_cost)\n",
    "            else:\n",
    "                if open_or_not == 'C':\n",
    "                    position_dict[tickerA] = 0\n",
    "                    cash += 0\n",
    "                else:\n",
    "                    if buy_or_sell == 'B':\n",
    "                        position_dict[tickerA] = -int((cash/len(pairs))/AskB[i+60]*beta)\n",
    "                        cash += (1-borrow_cost)*abs(position_dict[tickerA])*(BidA[i+60]-transaction_cost)\n",
    "                    else:\n",
    "                        position_dict[tickerA] = int((cash/len(pairs))/BidB[i+60]*beta)\n",
    "                        cash -= abs(position_dict[tickerA])*(AskA[i+60]+transaction_cost)\n",
    "            \n",
    "            # for B\n",
    "            if (tickerB in position_dict.keys()):\n",
    "                if open_or_not == 'C':\n",
    "                    if buy_or_sell == 'B':\n",
    "                        cash += (BidB[i+60]-transaction_cost)*abs(position_dict[tickerB])\n",
    "                        position_dict[tickerB] = 0\n",
    "                    else:\n",
    "                        cash -= (AskB[i+60]+transaction_cost)*abs(position_dict[tickerB])\n",
    "                        position_dict[tickerB] = 0\n",
    "                else:\n",
    "                    if buy_or_sell == 'B':\n",
    "                        position_dict[tickerB] += int((cash/len(pairs))/AskB[i+60])\n",
    "                        cash -= (cash/len(pairs))/AskB[i+60]*(AskB[i+60]+transaction_cost)\n",
    "                    else:\n",
    "                        position_dict[tickerB] -= int((cash/len(pairs))/BidB[i+60])\n",
    "                        cash += (1-borrow_cost)*(cash/len(pairs))/BidB[i+60]*(BidB[i+60]-transaction_cost)\n",
    "            else:\n",
    "                if open_or_not == 'C':\n",
    "                    position_dict[tickerB] = 0\n",
    "                    cash += 0\n",
    "                else:\n",
    "                    if buy_or_sell == 'B':\n",
    "                        position_dict[tickerB] = int((cash/len(pairs))/AskB[i+60])\n",
    "                        cash -= abs(position_dict[tickerB])*(AskB[i+60]+transaction_cost)\n",
    "                    else:\n",
    "                        position_dict[tickerB] = int((cash/len(pairs))/BidB[i+60])\n",
    "                        cash += (1-borrow_cost)*abs(position_dict[tickerB])*(BidB[i+60]-transaction_cost)\n",
    "        PNL.append(cash - cash_old)    \n",
    "    return position_dict, cash, PNL"
   ]
  },
  {
   "cell_type": "code",
   "execution_count": 41,
   "metadata": {
    "collapsed": false
   },
   "outputs": [
    {
     "data": {
      "text/plain": [
       "({'AIRGAS INC': 0,\n",
       "  'ALTERA CORP': 0,\n",
       "  'AMGEN INC': 0,\n",
       "  'AVON PRODUCTS INC': 0,\n",
       "  'BAKER HUGHES INC': -294,\n",
       "  'COMERICA INC': 0,\n",
       "  'DANAHER CORP': 0,\n",
       "  'GANNETT CO INC': 0,\n",
       "  'INTERNATIONAL FLAVORS & FRAG INC': 0,\n",
       "  'INTERNATIONAL PAPER CO': 0,\n",
       "  'MURPHY OIL CORP': 0,\n",
       "  'NORTHEAST UTILITIES': 1258,\n",
       "  'OFFICE DEPOT INC': 0,\n",
       "  'PROGRESSIVE CORP OH': 0,\n",
       "  'QUESTAR CORP': 251,\n",
       "  'RITE AID CORP': 0,\n",
       "  'TIFFANY & CO NEW': -746,\n",
       "  'TORCHMARK CORP': 0,\n",
       "  'WESTERN DIGITAL CORP': 0,\n",
       "  'WEYERHAEUSER CO': 0},\n",
       " 169345.36491146404,\n",
       " [0,\n",
       "  -3638.9553704596474,\n",
       "  -3283.6129903174951,\n",
       "  -2863.0694830354041,\n",
       "  -12317.03417942116,\n",
       "  -1829.0973815613979,\n",
       "  -4155.1038495099456,\n",
       "  3463.8272939477356,\n",
       "  -2528.7941168161597,\n",
       "  4845.1362696905453,\n",
       "  -4950.7425615112552,\n",
       "  512.27350118833783,\n",
       "  -4063.9799679562238,\n",
       "  -4930.935380328976,\n",
       "  -942.5821012786746,\n",
       "  -2540.7346033555968,\n",
       "  -5018.5129502558584,\n",
       "  11448.266511391972,\n",
       "  -5753.8480996780909,\n",
       "  5318.2803121924571,\n",
       "  2167.7375052304524,\n",
       "  7204.6285615063935,\n",
       "  -4622.4602039774181,\n",
       "  -12056.840597184133,\n",
       "  3668.0365710460173,\n",
       "  -2550.2776003124618,\n",
       "  -3791.5726677428265,\n",
       "  -2942.3406513815439,\n",
       "  -3669.0340431479663,\n",
       "  -101.99443659274675,\n",
       "  -39.300525735366669,\n",
       "  -18.990509639366334,\n",
       "  -8.4942960805436503,\n",
       "  365.65552926580131,\n",
       "  -164.30963566188356,\n",
       "  -91.097877108985131,\n",
       "  -79.149209817715359,\n",
       "  26457.789884373884,\n",
       "  -2787.278493308695,\n",
       "  -1626.9080000000031,\n",
       "  2990.9658032091065,\n",
       "  3442.0801146723716,\n",
       "  2704.0196948008452,\n",
       "  -3698.3156357217558,\n",
       "  43.62101476818134,\n",
       "  2369.5569817358373,\n",
       "  190.44426062560888,\n",
       "  2687.6584000773291,\n",
       "  21965.645274730676,\n",
       "  10736.694301538948,\n",
       "  15140.869501339752,\n",
       "  14642.928590527532,\n",
       "  49088.414901157099,\n",
       "  24469.904441841878,\n",
       "  28212.364068041585,\n",
       "  5940.4471372295811,\n",
       "  -37696.929905188474,\n",
       "  1426.1870809915999,\n",
       "  1333.7573517442797,\n",
       "  1270.4713766860077])"
      ]
     },
     "execution_count": 41,
     "metadata": {},
     "output_type": "execute_result"
    }
   ],
   "source": [
    "build_position(position_dict, cash, pairs, data)"
   ]
  },
  {
   "cell_type": "code",
   "execution_count": 11,
   "metadata": {
    "collapsed": true
   },
   "outputs": [],
   "source": [
    "def add_date(start_date, add_days):\n",
    "    year = int(start_date/10000)\n",
    "    month = int(start_date/100)- year*100\n",
    "    day = start - year*10000 - month*100\n",
    "    \n",
    "    date1 = datetime(year, month, day)\n",
    "    date2 = date1 + timedelta(days=add_days)\n",
    "    \n",
    "    new_date  = date2.year * 10000 + date2.month * 100 + date2.day\n",
    "    return new_date\n",
    "    "
   ]
  },
  {
   "cell_type": "code",
   "execution_count": 12,
   "metadata": {
    "collapsed": true
   },
   "outputs": [],
   "source": [
    "def backtest(start_date_index, timeline):\n",
    "    date_list = sorted(list(set(sp500['date'])))\n",
    "    win_len = 60\n",
    "    start_date = date_list[start_date_index]\n",
    "    pair_start_date = date_list[start_date_index -win_len*9]\n",
    "    \n",
    "    cash = 50000\n",
    "    \n",
    "    #pair_end_date = add_date(start_date, win_len - 1)\n",
    "    \n",
    "    \n",
    "    PNL_list = []\n",
    "    position_dict = {}\n",
    "    \n",
    "    for i in range(timeline):\n",
    "        print(\"start: \", pair_start_date)\n",
    "        data, pairs = find_pair(pair_start_date, win_len)\n",
    "        position_dict, cash, PNL = build_position(position_dict, cash, pairs, data)\n",
    "        PNL_list = PNL_list + PNL\n",
    "        start_date_index += 60\n",
    "        pair_start_date = date_list[start_date_index - win_len*9]\n",
    "        print(cash)\n",
    "    \n",
    "    #PNL_list = np.array([4200,5400,3500,6300])\n",
    "    #sp500_index = np.array([100,200,100])\n",
    "    return_list = np.diff(PNL_list)/PNL_list[:(len(PNL_list)-1)]\n",
    "    sharp_ratio = (np.mean(return_list) - 0.3) / sqrt(np.var(return_list))\n",
    "                   \n",
    "    max_here = pd.expanding_max(return_list)\n",
    "    dd2here = return_list - max_here\n",
    "    max_drawdown = dd2here.min()\n",
    "                   \n",
    "    beta = np.cov(return_list, sp500_index)[1,0] / np.var(sp500_index)\n",
    "    \n",
    "    return PNL_list, sharp_ratio, max_drawdown, beta\n",
    "      "
   ]
  },
  {
   "cell_type": "code",
   "execution_count": 13,
   "metadata": {
    "collapsed": false
   },
   "outputs": [
    {
     "ename": "NameError",
     "evalue": "name 'sp500' is not defined",
     "output_type": "error",
     "traceback": [
      "\u001b[0;31m---------------------------------------------------------------------------\u001b[0m",
      "\u001b[0;31mNameError\u001b[0m                                 Traceback (most recent call last)",
      "\u001b[0;32m<ipython-input-13-f65feb988e44>\u001b[0m in \u001b[0;36m<module>\u001b[0;34m()\u001b[0m\n\u001b[0;32m----> 1\u001b[0;31m \u001b[0mresult\u001b[0m \u001b[1;33m=\u001b[0m \u001b[0mbacktest\u001b[0m\u001b[1;33m(\u001b[0m\u001b[1;36m6000\u001b[0m\u001b[1;33m,\u001b[0m \u001b[1;36m5\u001b[0m\u001b[1;33m)\u001b[0m\u001b[1;33m\u001b[0m\u001b[0m\n\u001b[0m",
      "\u001b[0;32m<ipython-input-12-13489dfb1850>\u001b[0m in \u001b[0;36mbacktest\u001b[0;34m(start_date_index, timeline)\u001b[0m\n\u001b[1;32m      1\u001b[0m \u001b[1;32mdef\u001b[0m \u001b[0mbacktest\u001b[0m\u001b[1;33m(\u001b[0m\u001b[0mstart_date_index\u001b[0m\u001b[1;33m,\u001b[0m \u001b[0mtimeline\u001b[0m\u001b[1;33m)\u001b[0m\u001b[1;33m:\u001b[0m\u001b[1;33m\u001b[0m\u001b[0m\n\u001b[0;32m----> 2\u001b[0;31m     \u001b[0mdate_list\u001b[0m \u001b[1;33m=\u001b[0m \u001b[0msorted\u001b[0m\u001b[1;33m(\u001b[0m\u001b[0mlist\u001b[0m\u001b[1;33m(\u001b[0m\u001b[0mset\u001b[0m\u001b[1;33m(\u001b[0m\u001b[0msp500\u001b[0m\u001b[1;33m[\u001b[0m\u001b[1;34m'date'\u001b[0m\u001b[1;33m]\u001b[0m\u001b[1;33m)\u001b[0m\u001b[1;33m)\u001b[0m\u001b[1;33m)\u001b[0m\u001b[1;33m\u001b[0m\u001b[0m\n\u001b[0m\u001b[1;32m      3\u001b[0m     \u001b[0mwin_len\u001b[0m \u001b[1;33m=\u001b[0m \u001b[1;36m60\u001b[0m\u001b[1;33m\u001b[0m\u001b[0m\n\u001b[1;32m      4\u001b[0m     \u001b[0mstart_date\u001b[0m \u001b[1;33m=\u001b[0m \u001b[0mdate_list\u001b[0m\u001b[1;33m[\u001b[0m\u001b[0mstart_date_index\u001b[0m\u001b[1;33m]\u001b[0m\u001b[1;33m\u001b[0m\u001b[0m\n\u001b[1;32m      5\u001b[0m     \u001b[0mpair_start_date\u001b[0m \u001b[1;33m=\u001b[0m \u001b[0mdate_list\u001b[0m\u001b[1;33m[\u001b[0m\u001b[0mstart_date_index\u001b[0m \u001b[1;33m-\u001b[0m\u001b[0mwin_len\u001b[0m\u001b[1;33m*\u001b[0m\u001b[1;36m9\u001b[0m\u001b[1;33m]\u001b[0m\u001b[1;33m\u001b[0m\u001b[0m\n",
      "\u001b[0;31mNameError\u001b[0m: name 'sp500' is not defined"
     ]
    }
   ],
   "source": [
    "result = backtest(6000, 5)"
   ]
  },
  {
   "cell_type": "code",
   "execution_count": null,
   "metadata": {
    "collapsed": false
   },
   "outputs": [],
   "source": [
    "date_list =sorted(list(set(sp500['date'])))\n",
    "print(date_list[6000])\n",
    "print(date_list[6060])"
   ]
  },
  {
   "cell_type": "code",
   "execution_count": null,
   "metadata": {
    "collapsed": true
   },
   "outputs": [],
   "source": []
  }
 ],
 "metadata": {
  "kernelspec": {
   "display_name": "Python 3",
   "language": "python",
   "name": "python3"
  },
  "language_info": {
   "codemirror_mode": {
    "name": "ipython",
    "version": 3
   },
   "file_extension": ".py",
   "mimetype": "text/x-python",
   "name": "python",
   "nbconvert_exporter": "python",
   "pygments_lexer": "ipython3",
   "version": "3.6.0"
  }
 },
 "nbformat": 4,
 "nbformat_minor": 2
}
