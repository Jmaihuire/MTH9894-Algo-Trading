{
 "cells": [
  {
   "cell_type": "code",
   "execution_count": 1,
   "metadata": {
    "collapsed": true
   },
   "outputs": [],
   "source": [
    "import numpy as np\n",
    "import pandas as pd\n",
    "from scipy import stats\n",
    "import matplotlib.pyplot as plt\n",
    "from math import *\n",
    "\n",
    "%matplotlib inline"
   ]
  },
  {
   "cell_type": "code",
   "execution_count": 2,
   "metadata": {
    "collapsed": false
   },
   "outputs": [],
   "source": [
    "np.random.seed(12)\n",
    "x = np.random.random(120)\n",
    "y = np.random.random(120)-2\n",
    "bidx = np.random.random(120)+1\n",
    "askx = np.random.random(120)-0.5\n",
    "bidy = np.random.random(120)+2\n",
    "asky = np.random.random(120)-1.5"
   ]
  },
  {
   "cell_type": "code",
   "execution_count": 3,
   "metadata": {
    "collapsed": true
   },
   "outputs": [],
   "source": [
    "signal_exists = ['Y','N']         # exist, not exist\n",
    "signal_opens  = ['O', 'C']        # open, close\n",
    "signal_moves  = ['B', 'S']        # buy, sell"
   ]
  },
  {
   "cell_type": "code",
   "execution_count": 4,
   "metadata": {
    "collapsed": false
   },
   "outputs": [],
   "source": [
    "def generate_signal(priceA, priceB):\n",
    "    '''Find the trading signal in one window, default as 60 days'''\n",
    "    \n",
    "    # test the existence of signal\n",
    "    tfA = len(np.unique(np.isnan(priceA)))\n",
    "    tfB = len(np.unique(np.isnan(priceB)))\n",
    "            \n",
    "    if  tfA == 2 or tfB == 2:\n",
    "        signal_exist = signal_exists[0]\n",
    "    else:\n",
    "        signal_exist = signal_exists[1]\n",
    "\n",
    "        # calculate return for two stocks\n",
    "        Areturn = np.diff(priceA)/priceA[:(len(priceA)-1)]\n",
    "        Breturn = np.diff(priceB)/priceB[:(len(priceB)-1)]\n",
    "\n",
    "        # regression on return\n",
    "        beta, beta0, r_value, p_value, std_err = stats.linregress(Areturn, Breturn)\n",
    "\n",
    "        # get the residual epsilon_t\n",
    "        e_t = np.array(Breturn - beta0 - beta*Areturn)\n",
    "\n",
    "        # auxiliary process X_t\n",
    "        Xt = []\n",
    "        for i in range(len(Areturn)):\n",
    "            Xt.append(np.sum(e_t[:i+1]))\n",
    "\n",
    "        # regression on X_t\n",
    "        length = len(Xt)\n",
    "        Xt_vec = np.array(Xt)\n",
    "        b, a, r_value_x, p_value_x, std_err_x = stats.linregress(Xt_vec[1:],Xt_vec[:length-1])\n",
    "\n",
    "        # get the residual zeta_t\n",
    "        z_t = Xt_vec[:length-1] - a - b*Xt_vec[1:]\n",
    "        var_z = np.var(z_t)\n",
    "\n",
    "        # calculate the s-score\n",
    "        s_score = -a*sqrt(1-b**2)/((1-b)*sqrt(var_z)) + int(a/(1-b))*sqrt((1-b**2)/var_z)\n",
    "\n",
    "        # trading signal\n",
    "        if s_score < -1.25:\n",
    "            signal_open = signal_opens[0]\n",
    "            signal_move = signal_moves[0]\n",
    "        elif s_score > 1.25:\n",
    "            signal_open = signal_opens[0]\n",
    "            signal_move = signal_moves[1]\n",
    "        elif s_score < 0.75:\n",
    "            signal_open = signal_opens[1]\n",
    "            signal_move = signal_moves[0]\n",
    "        elif s_score > -0.5:\n",
    "            signal_open = signal_opens[1]\n",
    "            signal_move = signal_moves[1]\n",
    "        else:\n",
    "            print('warning!')\n",
    "\n",
    "        return beta,signal_exist, signal_open, signal_move"
   ]
  },
  {
   "cell_type": "code",
   "execution_count": 5,
   "metadata": {
    "collapsed": false,
    "scrolled": true
   },
   "outputs": [
    {
     "data": {
      "text/plain": [
       "(5.2076636313773747e-05, 'N', 'C', 'B')"
      ]
     },
     "execution_count": 5,
     "metadata": {},
     "output_type": "execute_result"
    }
   ],
   "source": [
    "generate_signal(x,y)"
   ]
  },
  {
   "cell_type": "code",
   "execution_count": 8,
   "metadata": {
    "collapsed": false
   },
   "outputs": [],
   "source": [
    "position_dict = {}  # static variable: 'StockA': position\n",
    "cash = 50000        # static variable\n",
    "\n",
    "\n",
    "def build_position(position_dict, cash, pairs, data):\n",
    "    '''build position for each window\n",
    "    \n",
    "    Default parameters\n",
    "    ------------------\n",
    "    shares per trade:1000\n",
    "    transaction cost fee: 0.0005\n",
    "    '''\n",
    "    \n",
    "    transaction_cost = 0.0005\n",
    "    \n",
    "    for i in range(60):\n",
    "        for pair in pairs:\n",
    "            stockA = data[data['COMNAM'] == pair[0]]\n",
    "            stockB = data[data['COMNAM'] == pair[1]]\n",
    "            priceA = pd.DataFrame.as_matrix(stockA['PRC'])\n",
    "            priceB = pd.DataFrame.as_matrix(stockB['PRC'])\n",
    "            tickerA = pair[0]\n",
    "            tickerB = pair[1]\n",
    "            BidA = pd.DataFrame.as_matrix(stockA['BID'])\n",
    "            AskA = pd.DataFrame.as_matrix(stockA['ASK'])\n",
    "            BidB = pd.DataFrame.as_matrix(stockB['BID'])\n",
    "            AskB = pd.DataFrame.as_matrix(stockB['ASK'])\n",
    "            current_priceA = priceA[i:i+window]\n",
    "            current_priceB = priceB[i:i+window]\n",
    "            result         = generate_signal(current_priceA, current_priceB)\n",
    "            beta           = result[0]\n",
    "            open_or_not    = result[2]\n",
    "            buy_or_sell    = result[3]\n",
    "            \n",
    "            # for A\n",
    "            if tickerA in position_dict.keys():\n",
    "                if open_or_not == 'C':\n",
    "                    if buy_or_sell == 'B':\n",
    "                        cash += (BidA[i+60]-transaction_cost)*position_dict[tickerA]\n",
    "                        position_dict[tickerA] = 0\n",
    "                    else:\n",
    "                        cash -= (AskA[i+60]+transaction_cost)*position_dict[tickerA]\n",
    "                        position_dict[tickerA] = 0\n",
    "                else:\n",
    "                    if buy_or_sell == 'B':\n",
    "                        position_dict[tickerA] -= (cash/len(pairs))/AskB[i+60]*beta\n",
    "                        cash += (asset_value/len(pairs))/AskB[i+60]*beta*(BidA[i+60]-transaction_cost)\n",
    "                    else:\n",
    "                        position_dict[tickerA] += (cash/len(pairs))/BidB[i+60]*beta\n",
    "                        cash -= (asset_value/len(pairs))/BidB[i+60]*beta*(AskA[i+60]+transaction_cost)\n",
    "            else:\n",
    "                if open_or_not == 'C':\n",
    "                    position_dict[tickerA] = 0\n",
    "                    cash += 0\n",
    "                else:\n",
    "                    if buy_or_sell == 'B':\n",
    "                        position_dict[tickerA] = -(cash/len(pairs))/AskB[i+60]*beta\n",
    "                        cash += abs(position_dict[tickerA])*(BidA[i+60]-transaction_cost)\n",
    "                    else:\n",
    "                        position_dict[tickerA] = (cash/len(pairs))/BidB[i+60]*beta\n",
    "                        cash -= abs(position_dict[tickerA])*(AskA[i+60]+transaction_cost)\n",
    "            \n",
    "            # for B\n",
    "            if tickerB in position_dict.keys():\n",
    "                if open_or_not == 'C':\n",
    "                    if buy_or_sell == 'B':\n",
    "                        cash -= (AskB[i+60]+transaction_cost)*position_dict[tickerB]\n",
    "                        position_dict[tickerB] = 0\n",
    "                    else:\n",
    "                        cash += (BidB[i+60]-transaction_cost)*position_dict[tickerB]\n",
    "                        position_dict[tickerB] = 0\n",
    "                else:\n",
    "                    if buy_or_sell == 'B':\n",
    "                        position_dict[tickerB] += (cash/len(pairs))/AskB[i+60]\n",
    "                        cash -= (asset_value/len(pairs))/AskB[i+60]*(AskB[i+60]+transaction_cost)\n",
    "                    else:\n",
    "                        position_dict[tickerB] -= (cash/len(pairs))/BidB[i+60]\n",
    "                        cash += (asset_value/len(pairs))/BidB[i+60]*(BidB[i+60]-transaction_cost)\n",
    "            else:\n",
    "                if open_or_not == 'C':\n",
    "                    position_dict[tickerB] = 0\n",
    "                    cash += 0\n",
    "                else:\n",
    "                    if buy_or_sell == 'B':\n",
    "                        position_dict[tickerB] = (cash/len(pairs))/AskB[i+60]\n",
    "                        cash -= abs(position_dict[tickerB])*(AskB[i+60]+transaction_cost)\n",
    "                    else:\n",
    "                        position_dict[tickerB] = (cash/len(pairs))/BidB[i+60]\n",
    "                        cash += abs(position_dict[tickerB])*(BidB[i+60]-transaction_cost)\n",
    "            \n",
    "    return position_dict, cash"
   ]
  },
  {
   "cell_type": "code",
   "execution_count": null,
   "metadata": {
    "collapsed": true
   },
   "outputs": [],
   "source": []
  }
 ],
 "metadata": {
  "kernelspec": {
   "display_name": "Python 3",
   "language": "python",
   "name": "python3"
  },
  "language_info": {
   "codemirror_mode": {
    "name": "ipython",
    "version": 3
   },
   "file_extension": ".py",
   "mimetype": "text/x-python",
   "name": "python",
   "nbconvert_exporter": "python",
   "pygments_lexer": "ipython3",
   "version": "3.6.0"
  }
 },
 "nbformat": 4,
 "nbformat_minor": 2
}
