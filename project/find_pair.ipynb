{
 "cells": [
  {
   "cell_type": "code",
   "execution_count": 1,
   "metadata": {
    "collapsed": false
   },
   "outputs": [],
   "source": [
    "import pandas as pd\n",
    "from pandas import TimeSeries\n",
    "import numpy as np\n",
    "import math\n",
    "from bokeh.charts import TimeSeries, output_file, show\n",
    "import statsmodels.tsa.stattools as stat"
   ]
  },
  {
   "cell_type": "code",
   "execution_count": 2,
   "metadata": {
    "collapsed": false
   },
   "outputs": [
    {
     "name": "stderr",
     "output_type": "stream",
     "text": [
      "C:\\ProgramData\\Anaconda3\\lib\\site-packages\\IPython\\core\\interactiveshell.py:2717: DtypeWarning: Columns (18,26) have mixed types. Specify dtype option on import or set low_memory=False.\n",
      "  interactivity=interactivity, compiler=compiler, result=result)\n"
     ]
    }
   ],
   "source": [
    "sp500=pd.read_csv('C:/mine/Course/9894/project/data/sp_500_daily_prices.csv',usecols=['date','COMNAM','PRC',\\\n",
    "                    'RET','RETX','vwretd','vwretx'],engine='c')"
   ]
  },
  {
   "cell_type": "code",
   "execution_count": 3,
   "metadata": {
    "collapsed": false
   },
   "outputs": [],
   "source": [
    "sp_recent=sp500[sp500['date']>=20000103]"
   ]
  },
  {
   "cell_type": "code",
   "execution_count": 4,
   "metadata": {
    "collapsed": false
   },
   "outputs": [],
   "source": [
    "company_recent=list(sp_recent[sp_recent['date']==20000103]['COMNAM'])"
   ]
  },
  {
   "cell_type": "code",
   "execution_count": 5,
   "metadata": {
    "collapsed": false
   },
   "outputs": [],
   "source": [
    "sp_orig=sp_recent[sp_recent['COMNAM']==company_recent[-1]][['date','RET']]\n",
    "sp_orig=pd.DataFrame(list(sp_orig['RET']),columns=[company_recent[-1]],index=list(sp_orig['date']))\n",
    "sp_orig=sp_orig[~sp_orig.index.duplicated(keep='first')]"
   ]
  },
  {
   "cell_type": "code",
   "execution_count": 6,
   "metadata": {
    "collapsed": false
   },
   "outputs": [],
   "source": [
    "for company in company_recent:\n",
    "    current_data=sp_recent[sp_recent['COMNAM']==company][['date','RET']]\n",
    "    ret=pd.DataFrame(list(current_data['RET']),columns=[company],index=list(current_data['date']))\n",
    "    ret =ret[~ret.index.duplicated(keep='first')]\n",
    "    sp_orig=pd.concat([sp_orig,ret],join='outer',axis=1)"
   ]
  },
  {
   "cell_type": "code",
   "execution_count": 7,
   "metadata": {
    "collapsed": false
   },
   "outputs": [],
   "source": [
    "sp_new=sp_orig.loc[20000103:20100102,:]"
   ]
  },
  {
   "cell_type": "code",
   "execution_count": 8,
   "metadata": {
    "collapsed": false
   },
   "outputs": [],
   "source": [
    "sp_new=sp_new.dropna(axis=1)"
   ]
  },
  {
   "cell_type": "code",
   "execution_count": 9,
   "metadata": {
    "collapsed": true
   },
   "outputs": [],
   "source": [
    "sp_price=sp_recent[sp_recent['COMNAM']==company_recent[-1]][['date','PRC']]\n",
    "sp_price=pd.DataFrame(list(sp_price['PRC']),columns=[company_recent[-1]],index=list(sp_price['date']))\n",
    "sp_price=sp_price[~sp_price.index.duplicated(keep='first')]\n",
    "for company in company_recent:\n",
    "    current_data=sp_recent[sp_recent['COMNAM']==company][['date','PRC']]\n",
    "    ret=pd.DataFrame(list(current_data['PRC']),columns=[company],index=list(current_data['date']))\n",
    "    ret =ret[~ret.index.duplicated(keep='first')]\n",
    "    sp_price=pd.concat([sp_price,ret],join='outer',axis=1)\n",
    "sp_price=sp_price.loc[20000103:20100102,:]\n",
    "#sp_price=sp_price.dropna(axis=1)"
   ]
  },
  {
   "cell_type": "code",
   "execution_count": 10,
   "metadata": {
    "collapsed": false
   },
   "outputs": [],
   "source": [
    "error_return=['E','D','C','B','A','']"
   ]
  },
  {
   "cell_type": "code",
   "execution_count": 11,
   "metadata": {
    "collapsed": false
   },
   "outputs": [],
   "source": [
    "sp_new=sp_new.applymap(lambda x:np.float64(0.0) if x in error_return else np.float64(x))"
   ]
  },
  {
   "cell_type": "code",
   "execution_count": 12,
   "metadata": {
    "collapsed": true
   },
   "outputs": [],
   "source": [
    "sp_pca=np.array(sp_new)"
   ]
  },
  {
   "cell_type": "code",
   "execution_count": 13,
   "metadata": {
    "collapsed": false
   },
   "outputs": [],
   "source": [
    "cov_company=np.cov(sp_pca)"
   ]
  },
  {
   "cell_type": "code",
   "execution_count": 14,
   "metadata": {
    "collapsed": false
   },
   "outputs": [],
   "source": [
    "cov_company[np.isnan(cov_company)] = 0.0"
   ]
  },
  {
   "cell_type": "code",
   "execution_count": 15,
   "metadata": {
    "collapsed": false
   },
   "outputs": [],
   "source": [
    "eigen_val,eigen_vector=np.linalg.eig(cov_company)"
   ]
  },
  {
   "cell_type": "code",
   "execution_count": 16,
   "metadata": {
    "collapsed": false
   },
   "outputs": [
    {
     "data": {
      "text/plain": [
       "0"
      ]
     },
     "execution_count": 16,
     "metadata": {},
     "output_type": "execute_result"
    }
   ],
   "source": [
    "np.argmax(eigen_val)"
   ]
  },
  {
   "cell_type": "code",
   "execution_count": 17,
   "metadata": {
    "collapsed": false
   },
   "outputs": [],
   "source": [
    "eigen_vector_max=list(zip(eigen_vector[0],sp_new.columns))"
   ]
  },
  {
   "cell_type": "code",
   "execution_count": 18,
   "metadata": {
    "collapsed": false
   },
   "outputs": [],
   "source": [
    "eigen_vector_max.sort(key=lambda x:x[0],reverse=True)"
   ]
  },
  {
   "cell_type": "code",
   "execution_count": 19,
   "metadata": {
    "collapsed": false
   },
   "outputs": [],
   "source": [
    "eigen_vector_max=list(zip(*eigen_vector_max))"
   ]
  },
  {
   "cell_type": "code",
   "execution_count": 26,
   "metadata": {
    "collapsed": true
   },
   "outputs": [],
   "source": [
    "def find_cointegrated_pairs(data):\n",
    "    n = len(data.columns)\n",
    "    score_matrix = np.zeros((n, n))\n",
    "    pvalue_matrix = np.ones((n, n))\n",
    "    keys = list(data.columns)\n",
    "    pairs = []\n",
    "    for i in range(n):\n",
    "        for j in range(i+1, n):\n",
    "            S1 = np.array(data[keys[i]])\n",
    "            S2 = np.array(data[keys[j]])\n",
    "            result = stat.coint(S1, S2)\n",
    "            score = result[0]\n",
    "            pvalue = result[1]\n",
    "            score_matrix[i, j] = score\n",
    "            pvalue_matrix[i, j] = pvalue\n",
    "            if pvalue < 0.01:\n",
    "                pairs.append((keys[i], keys[j]))\n",
    "    return score_matrix, pvalue_matrix, pairs"
   ]
  },
  {
   "cell_type": "code",
   "execution_count": 27,
   "metadata": {
    "collapsed": false
   },
   "outputs": [],
   "source": [
    "data=sp_price[list(eigen_vector_max[1][:20])]"
   ]
  },
  {
   "cell_type": "code",
   "execution_count": 28,
   "metadata": {
    "collapsed": false
   },
   "outputs": [
    {
     "name": "stderr",
     "output_type": "stream",
     "text": [
      "C:\\ProgramData\\Anaconda3\\lib\\site-packages\\numpy\\linalg\\linalg.py:1546: RuntimeWarning: invalid value encountered in greater\n",
      "  return sum(S > tol)\n",
      "C:\\ProgramData\\Anaconda3\\lib\\site-packages\\scipy\\stats\\_distn_infrastructure.py:875: RuntimeWarning: invalid value encountered in greater\n",
      "  return (self.a < x) & (x < self.b)\n",
      "C:\\ProgramData\\Anaconda3\\lib\\site-packages\\scipy\\stats\\_distn_infrastructure.py:875: RuntimeWarning: invalid value encountered in less\n",
      "  return (self.a < x) & (x < self.b)\n",
      "C:\\ProgramData\\Anaconda3\\lib\\site-packages\\scipy\\stats\\_distn_infrastructure.py:1731: RuntimeWarning: invalid value encountered in greater_equal\n",
      "  cond2 = (x >= self.b) & cond0\n"
     ]
    }
   ],
   "source": [
    "score_matrix, pvalue_matrix, pairs=find_cointegrated_pairs(data)"
   ]
  },
  {
   "cell_type": "code",
   "execution_count": 29,
   "metadata": {
    "collapsed": false
   },
   "outputs": [
    {
     "data": {
      "text/plain": [
       "23"
      ]
     },
     "execution_count": 29,
     "metadata": {},
     "output_type": "execute_result"
    }
   ],
   "source": [
    "len(pairs)"
   ]
  },
  {
   "cell_type": "code",
   "execution_count": null,
   "metadata": {
    "collapsed": true
   },
   "outputs": [],
   "source": []
  },
  {
   "cell_type": "code",
   "execution_count": null,
   "metadata": {
    "collapsed": true
   },
   "outputs": [],
   "source": []
  },
  {
   "cell_type": "code",
   "execution_count": 310,
   "metadata": {
    "collapsed": false
   },
   "outputs": [
    {
     "data": {
      "text/plain": [
       "('K L A TENCOR CORP',\n",
       " 'BANK OF AMERICA CORP',\n",
       " 'ECOLAB INC',\n",
       " 'X L CAPITAL LTD',\n",
       " 'FEDERAL HOME LOAN MORTGAGE CORP',\n",
       " 'PEPSI BOTTLING GROUP INC',\n",
       " 'MOLEX INC',\n",
       " 'AMERICAN EXPRESS CO',\n",
       " 'FASTENAL COMPANY',\n",
       " 'T J X COMPANIES INC NEW',\n",
       " 'MAXIM INTEGRATED PRODUCTS INC',\n",
       " 'EOG RESOURCES INC',\n",
       " 'ALEXION PHARMACEUTICALS INC',\n",
       " 'APPLIED MICRO CIRCUITS CORP',\n",
       " 'CERNER CORP',\n",
       " 'HUDSON CITY BANCORP INC',\n",
       " 'EMERSON ELECTRIC CO',\n",
       " 'WASHINGTON POST CO',\n",
       " 'QUALCOMM INC',\n",
       " 'CONEXANT SYSTEMS INC',\n",
       " 'BRISTOL MYERS SQUIBB CO',\n",
       " 'MCCORMICK & CO INC',\n",
       " 'ROPER INDUSTRIES INC NEW',\n",
       " 'MOTOROLA INC',\n",
       " 'ABBOTT LABORATORIES',\n",
       " 'FRANKLIN RESOURCES INC',\n",
       " 'SOUTHWESTERN ENERGY CO',\n",
       " 'ALCOA INC',\n",
       " 'MCGRAW HILL COS INC',\n",
       " 'PHILLIPS VAN HEUSEN CORP',\n",
       " 'RAYTHEON CO',\n",
       " 'EQUIFAX INC',\n",
       " 'SUN MICROSYSTEMS INC',\n",
       " 'OMNICOM GROUP INC',\n",
       " 'COCA COLA CO',\n",
       " 'OFFICE DEPOT INC',\n",
       " 'CORNING INC',\n",
       " 'BROWN SHOE CO INC NEW',\n",
       " 'JONES APPAREL GROUP INC',\n",
       " 'ROBERT HALF INTERNATIONAL INC',\n",
       " 'WATERS CORP',\n",
       " 'CARDINAL HEALTH INC',\n",
       " 'QUESTAR CORP',\n",
       " 'PINNACLE WEST CAPITAL CORP',\n",
       " 'INTERPUBLIC GROUP COS INC',\n",
       " 'TITANIUM METALS CORP',\n",
       " 'C S X CORP',\n",
       " 'BRIGGS & STRATTON CORP',\n",
       " 'LAUDER ESTEE COS INC',\n",
       " 'CHURCH & DWIGHT INC',\n",
       " 'BRUNSWICK CORP',\n",
       " 'M E M C ELECTRONIC MATERIALS INC',\n",
       " 'DARDEN RESTAURANTS INC',\n",
       " 'DONNELLEY R R & SONS CO',\n",
       " 'AMERICAN TOWER CORP',\n",
       " 'MCDERMOTT INTERNATIONAL INC',\n",
       " 'CONSOL ENERGY INC',\n",
       " 'INTERNATIONAL BUSINESS MACHS COR',\n",
       " 'DU PONT E I DE NEMOURS & CO',\n",
       " 'YAHOO INC',\n",
       " 'DISNEY WALT CO',\n",
       " 'PLUM CREEK TIMBER CO INC',\n",
       " 'WAL MART STORES INC',\n",
       " 'FREEPORT MCMORAN COPPER & GOLD',\n",
       " 'HOME DEPOT INC',\n",
       " 'EXPRESS SCRIPTS INC',\n",
       " 'FORTUNE BRANDS INC',\n",
       " 'M & T BANK CORP',\n",
       " 'BOSTON SCIENTIFIC CORP',\n",
       " 'DEVRY INC DEL',\n",
       " 'DANAHER CORP',\n",
       " 'COLGATE PALMOLIVE CO',\n",
       " 'CINCINNATI FINANCIAL CORP',\n",
       " 'SERVICE CORP INTERNATIONAL',\n",
       " 'OCCIDENTAL PETROLEUM CORP',\n",
       " 'F 5 NETWORKS INC',\n",
       " 'COMPUWARE CORP',\n",
       " 'URBAN OUTFITTERS INC',\n",
       " 'CONAGRA INC',\n",
       " 'LEUCADIA NATIONAL CORP',\n",
       " 'INTERNATIONAL PAPER CO',\n",
       " 'MACERICH CO',\n",
       " 'TRACTOR SUPPLY CO NEW',\n",
       " 'SOUTHERN CO',\n",
       " 'NEWFIELD EXPLORATION CO',\n",
       " 'POWER ONE INC',\n",
       " 'MICRON TECHNOLOGY INC',\n",
       " 'BOEING CO',\n",
       " 'CABOT OIL & GAS CORP',\n",
       " 'VERISIGN INC',\n",
       " 'TELLABS INC',\n",
       " 'D T E ENERGY CO',\n",
       " 'MILLIPORE CORP',\n",
       " 'TEREX CORP NEW',\n",
       " 'LEGG MASON INC',\n",
       " 'ROSS STORES INC',\n",
       " 'GENERAL ELECTRIC CO',\n",
       " 'PARAMETRIC TECHNOLOGY CORP',\n",
       " 'FLIR SYSTEMS INC',\n",
       " 'NICOR INC',\n",
       " 'SEMPRA ENERGY',\n",
       " 'BAXTER INTERNATIONAL INC',\n",
       " 'ST JUDE MEDICAL INC',\n",
       " 'ORACLE CORP',\n",
       " 'AMPHENOL CORP NEW',\n",
       " 'FIFTH THIRD BANCORP',\n",
       " 'EATON CORP',\n",
       " 'RED HAT INC',\n",
       " 'LABORATORY CORP AMERICA HLDGS',\n",
       " 'MICROCHIP TECHNOLOGY INC',\n",
       " 'KELLOGG CO',\n",
       " 'LOCKHEED MARTIN CORP',\n",
       " 'NUCOR CORP',\n",
       " 'HASBRO INC',\n",
       " 'QWEST COMMUNICATIONS INTL INC',\n",
       " 'APPLIED MATERIALS INC',\n",
       " 'RITE AID CORP',\n",
       " 'U S BANCORP DEL',\n",
       " 'VERTEX PHARMACEUTICALS INC',\n",
       " 'UNITED PARCEL SERVICE INC',\n",
       " 'VITESSE SEMICONDUCTOR CORP',\n",
       " 'NVIDIA CORP',\n",
       " 'F P L GROUP INC',\n",
       " 'EXXON MOBIL CORP',\n",
       " 'HARTFORD FINANCIAL SVCS GRP INC',\n",
       " 'CARNIVAL CORP',\n",
       " 'QUANTA SERVICES INC',\n",
       " 'CHESAPEAKE ENERGY CORP',\n",
       " 'JOHNSON CONTROLS INC',\n",
       " 'ALLERGAN INC',\n",
       " 'PERKINELMER INC',\n",
       " 'CONVERGYS CORP',\n",
       " 'PACTIV CORP',\n",
       " 'JABIL CIRCUIT INC',\n",
       " 'CROWN CASTLE INTERNATIONAL CORP',\n",
       " 'SHERWIN WILLIAMS CO',\n",
       " 'STATE STREET CORP',\n",
       " 'ZIONS BANCORP',\n",
       " 'MCDONALDS CORP',\n",
       " 'NIKE INC',\n",
       " 'HONEYWELL INTERNATIONAL INC',\n",
       " 'POLO RALPH LAUREN CORP',\n",
       " 'LEGGETT & PLATT INC',\n",
       " 'SCHEIN HENRY INC',\n",
       " 'SUNOCO INC',\n",
       " 'MARTIN MARIETTA MATERIALS INC',\n",
       " 'COVENTRY HEALTH CARE INC',\n",
       " 'PACCAR INC',\n",
       " 'BLACKROCK INC',\n",
       " 'MEDTRONIC INC',\n",
       " 'O REILLY AUTOMOTIVE INC',\n",
       " 'XILINX INC',\n",
       " 'WILLIAMS COS',\n",
       " 'PRECISION CASTPARTS CORP',\n",
       " 'DILLARDS INC',\n",
       " 'FURNITURE BRANDS INTL INC',\n",
       " 'SMUCKER J M CO',\n",
       " 'CLOROX CO',\n",
       " 'AMBAC FINANCIAL GROUP INC',\n",
       " 'WALGREEN CO',\n",
       " 'COMVERSE TECHNOLOGY INC',\n",
       " 'COGNIZANT TECHNOLOGY SOLS CORP',\n",
       " 'HEALTH CARE REIT INC',\n",
       " 'STARBUCKS CORP',\n",
       " 'AVON PRODUCTS INC',\n",
       " 'TERADYNE INC',\n",
       " 'WESTERN DIGITAL CORP',\n",
       " 'HUNTINGTON BANCSHARES INC',\n",
       " 'LAM RESH CORP',\n",
       " 'INTUIT INC',\n",
       " 'SKYLINE CORP',\n",
       " 'QLOGIC CORP',\n",
       " 'NORDSTROM INC',\n",
       " 'UNILEVER N V',\n",
       " 'AVALONBAY COMMUNITIES INC',\n",
       " 'PRAXAIR INC',\n",
       " 'NORTHEAST UTILITIES',\n",
       " 'A G L RESOURCES INC',\n",
       " 'FISERV INC',\n",
       " 'SCHWAB CHARLES CORP NEW',\n",
       " 'AIR PRODUCTS & CHEMICALS INC',\n",
       " 'N L INDUSTRIES INC',\n",
       " 'PITNEY BOWES INC',\n",
       " 'HORMEL FOODS CORP',\n",
       " 'AGILENT TECHNOLOGIES INC',\n",
       " 'C M S ENERGY CORP',\n",
       " 'J D S UNIPHASE CORP',\n",
       " 'NORTHERN TRUST CORP',\n",
       " 'KIMCO REALTY CORP',\n",
       " 'AFFILIATED MANAGERS GROUP INC',\n",
       " 'LENNAR CORP',\n",
       " 'CISCO SYSTEMS INC',\n",
       " 'P M C SIERRA INC',\n",
       " 'BAKER HUGHES INC',\n",
       " 'SYMANTEC CORP',\n",
       " 'ROWAN COMPANIES INC',\n",
       " 'NEWELL RUBBERMAID INC',\n",
       " 'P P G INDUSTRIES INC',\n",
       " 'S L GREEN REALTY CORP',\n",
       " 'NORTHROP GRUMMAN CORP',\n",
       " 'APACHE CORP',\n",
       " 'CIENA CORP',\n",
       " 'SIGMA ALDRICH CORP',\n",
       " 'KEYCORP NEW',\n",
       " 'QUEST DIAGNOSTICS INC',\n",
       " 'EASTMAN CHEMICAL CO',\n",
       " 'AKAMAI TECHNOLOGIES INC',\n",
       " 'FEDERAL NATIONAL MORTGAGE ASSN',\n",
       " 'INTEL CORP',\n",
       " 'UNISYS CORP',\n",
       " 'CHUBB CORP',\n",
       " 'CAPITAL ONE FINANCIAL CORP',\n",
       " 'WHOLE FOODS MARKET INC',\n",
       " 'ADOBE SYSTEMS INC',\n",
       " 'TEXTRON INC',\n",
       " 'A K STEEL HOLDING CORP',\n",
       " 'ADVANCED MICRO DEVICES INC',\n",
       " 'WELLS FARGO & CO NEW',\n",
       " 'NISOURCE INC',\n",
       " 'AMERICAN ELECTRIC POWER CO INC',\n",
       " 'CEPHALON INC',\n",
       " 'S P X CORP',\n",
       " 'CAMPBELL SOUP CO',\n",
       " 'HEWLETT PACKARD CO',\n",
       " 'JUNIPER NETWORKS INC',\n",
       " 'ESSEX PROPERTY TRUST INC',\n",
       " 'EXPEDITORS INTERNATIONAL WA INC',\n",
       " 'PIONEER NATURAL RESOURCES CO',\n",
       " 'LINEAR TECHNOLOGY CORP',\n",
       " 'SUNTRUST BANKS INC',\n",
       " 'HANSEN NATURAL CORP',\n",
       " 'DOVER CORP',\n",
       " 'LOWES COMPANIES INC',\n",
       " 'EDISON INTERNATIONAL',\n",
       " 'GOODYEAR TIRE & RUBBER CO',\n",
       " 'UNITED TECHNOLOGIES CORP',\n",
       " 'MCKESSON H B O C INC',\n",
       " 'AUTONATION INC DEL',\n",
       " 'STANLEY WORKS',\n",
       " 'STRYKER CORP',\n",
       " 'PALL CORP',\n",
       " 'A M B PROPERTY CORP',\n",
       " 'RANGE RESOURCES CORP',\n",
       " 'N C R CORP NEW',\n",
       " 'TEXAS INSTRUMENTS INC',\n",
       " 'PETSMART INC',\n",
       " 'NOVELL INC',\n",
       " 'HEALTH MANAGEMENT ASSOCIATES INC',\n",
       " 'ANALOG DEVICES INC',\n",
       " 'V F CORP',\n",
       " 'CENTURYTEL INC',\n",
       " 'BLACK & DECKER CORP',\n",
       " 'APARTMENT INVESTMENT & MGMT CO',\n",
       " 'LIZ CLAIBORNE INC',\n",
       " 'SANDISK CORP',\n",
       " 'ENTERGY CORP NEW',\n",
       " 'E M C CORP MA',\n",
       " 'NACCO INDUSTRIES INC',\n",
       " 'HUMANA INC',\n",
       " 'ALLEGHENY ENERGY INC',\n",
       " 'MATTEL INC',\n",
       " 'A F L A C INC',\n",
       " 'REGENERON PHARMACEUTICALS INC',\n",
       " 'HARMAN INTL INDS INC NEW',\n",
       " 'AMERICAN INTERNATIONAL GROUP INC',\n",
       " 'M B I A INC',\n",
       " 'CATERPILLAR INC',\n",
       " 'ANADARKO PETROLEUM CORP',\n",
       " 'VALERO ENERGY CORP NEW',\n",
       " 'UNION PACIFIC CORP',\n",
       " 'COCA COLA ENTERPRISES INC',\n",
       " 'MASCO CORP',\n",
       " 'FAMILY DOLLAR STORES INC',\n",
       " 'PARKER HANNIFIN CORP',\n",
       " 'KIMBERLY CLARK CORP',\n",
       " 'REPUBLIC SERVICES INC',\n",
       " 'CH ROBINSON WORLDWIDE INC',\n",
       " 'I M S HEALTH INC',\n",
       " 'SYNOVUS FINANCIAL CORP',\n",
       " 'AON CORP',\n",
       " 'SIMON PROPERTY GROUP INC NEW',\n",
       " 'VENTAS INC',\n",
       " 'STERICYCLE INC',\n",
       " 'DEERE & CO',\n",
       " 'BEST BUY COMPANY INC',\n",
       " 'BOSTON PROPERTIES INC',\n",
       " 'LINCOLN NATIONAL CORP IN',\n",
       " 'WESTMORELAND COAL CO',\n",
       " 'TOTAL SYSTEM SERVICES INC',\n",
       " 'RYDER SYSTEMS INC',\n",
       " 'JOHNSON & JOHNSON',\n",
       " 'C N A FINANCIAL CORP',\n",
       " 'AUTOZONE INC',\n",
       " 'FORD MOTOR CO DEL',\n",
       " 'DELUXE CORP',\n",
       " 'BECTON DICKINSON & CO',\n",
       " 'FLOWSERVE CORP',\n",
       " 'AVERY DENNISON CORP',\n",
       " 'PROGRESSIVE CORP OH',\n",
       " 'BEMIS CO INC',\n",
       " 'CONSOLIDATED EDISON INC',\n",
       " 'KING PHARMACEUTICALS INC',\n",
       " 'CONSTELLATION ENERGY GROUP INC',\n",
       " 'ROYAL CARIBBEAN CRUISES LTD',\n",
       " 'COMERICA INC',\n",
       " 'KOHLS CORP',\n",
       " 'T E C O ENERGY INC',\n",
       " 'PUBLIC SERVICE ENTERPRISE GP INC',\n",
       " 'FOREST LABS INC',\n",
       " 'BROADCOM CORP',\n",
       " 'WATSON PHARMACEUTICALS INC',\n",
       " 'COSTCO WHOLESALE CORP NEW',\n",
       " 'BASSETT FURNITURE INDUSTRIES INC',\n",
       " 'BARRICK GOLD CORP',\n",
       " 'BERKSHIRE HATHAWAY INC DEL',\n",
       " 'MARRIOTT INTERNATIONAL INC NEW',\n",
       " 'HALLIBURTON COMPANY',\n",
       " 'PENNEY J C CO INC',\n",
       " 'DEVON ENERGY CORP NEW',\n",
       " 'LEVEL 3 COMMUNICATIONS INC',\n",
       " 'B B & T CORP',\n",
       " '3COM CORP',\n",
       " 'SMITH INTERNATIONAL INC',\n",
       " 'HUNT J B TRANSPORT SERVICES INC',\n",
       " 'MORGAN STANLEY DEAN WITTER & CO',\n",
       " 'TIFFANY & CO NEW',\n",
       " 'KROGER COMPANY',\n",
       " 'PERRIGO CO',\n",
       " 'A D C TELECOMMUNICATIONS INC',\n",
       " 'WHIRLPOOL CORP',\n",
       " 'VARIAN MEDICAL SYSTEMS INC',\n",
       " 'CITRIX SYSTEMS INC',\n",
       " 'TYSON FOODS INC',\n",
       " 'DEVELOPERS DIVERSIFIED RLTY CORP',\n",
       " 'BROADVISION INC',\n",
       " 'XEROX CORP',\n",
       " 'REALTY INCOME CORP',\n",
       " 'MURPHY OIL CORP',\n",
       " 'OWENS ILL INC',\n",
       " 'SARA LEE CORP',\n",
       " 'R F MICRO DEVICES INC',\n",
       " 'A E S CORP',\n",
       " 'CITIGROUP INC',\n",
       " 'HEALTHSOUTH CORP',\n",
       " 'AUTODESK INC',\n",
       " 'LOUISIANA PACIFIC CORP',\n",
       " 'M G I C INVESTMENT CORP WIS',\n",
       " 'ELECTRONIC ARTS INC',\n",
       " 'NORFOLK SOUTHERN CORP',\n",
       " 'NEW YORK TIMES CO',\n",
       " 'HARRIS CORP',\n",
       " 'UNIVERSAL HEALTH SERVICES INC',\n",
       " 'BLOCK H & R INC',\n",
       " 'PEPSICO INC',\n",
       " 'GENERAL MILLS INC',\n",
       " 'NOVELLUS SYSTEMS INC',\n",
       " 'CABLEVISION SYSTEMS CORP',\n",
       " 'GANNETT CO INC',\n",
       " 'NEWMONT MINING CORP',\n",
       " 'FIRSTENERGY CORP',\n",
       " 'ARCHER DANIELS MIDLAND CO',\n",
       " 'AFFILIATED COMPUTER SERVICES INC',\n",
       " 'ABERCROMBIE & FITCH CO',\n",
       " 'AIRGAS INC',\n",
       " 'AMAZON COM INC',\n",
       " 'EMCOR GROUP INC',\n",
       " 'ALTERA CORP',\n",
       " 'FOSSIL INC',\n",
       " 'CHARMING SHOPPES INC',\n",
       " 'MICROSOFT CORP',\n",
       " 'COOPER TIRE & RUBBER CO',\n",
       " 'AMGEN INC',\n",
       " 'WORTHINGTON INDUSTRIES INC',\n",
       " 'GENERAL DYNAMICS CORP',\n",
       " 'BED BATH & BEYOND INC',\n",
       " 'BARD C R INC',\n",
       " 'TEMPLE INLAND INC',\n",
       " 'MANITOWOC CO INC',\n",
       " 'SCRIPPS E W CO OHIO',\n",
       " 'ADAPTEC INC',\n",
       " 'CINTAS CORP',\n",
       " 'ALLSTATE CORP',\n",
       " 'PEP BOYS MANNY MOE & JACK',\n",
       " 'GREAT ATLANTIC & PAC TEA INC',\n",
       " 'PROCTER & GAMBLE CO',\n",
       " 'L 3 COMMUNICATIONS HLDGS INC',\n",
       " 'FEDERATED INVESTORS INC PA',\n",
       " 'UNITED RENTALS INC',\n",
       " 'TORCHMARK CORP',\n",
       " 'GRACE W R & CO DEL NEW',\n",
       " 'CELGENE CORP',\n",
       " 'MOHAWK INDUSTRIES INC',\n",
       " 'LUBYS INC',\n",
       " 'ALLEGHENY TECHNOLOGIES',\n",
       " 'MARSH & MCLENNAN COS INC',\n",
       " 'SYSCO CORP',\n",
       " 'AMETEK INC NEW',\n",
       " 'BALL CORP',\n",
       " 'A M R CORP DEL',\n",
       " 'HEINZ H J CO',\n",
       " 'INTERNATIONAL GAME TECHNOLOGY',\n",
       " 'U S G CORP',\n",
       " 'VORNADO REALTY TRUST',\n",
       " 'SNAP ON INC',\n",
       " 'INTERNATIONAL FLAVORS & FRAG INC',\n",
       " 'LOEWS CORP',\n",
       " 'NAVISTAR INTERNATIONAL CORP',\n",
       " 'BROWN FORMAN CORP',\n",
       " 'GENUINE PARTS CO',\n",
       " 'AMEREN CORP',\n",
       " 'ONEOK INC NEW',\n",
       " 'GENESCO INC',\n",
       " 'DIAMOND OFFSHORE DRILLING INC',\n",
       " 'D R HORTON INC',\n",
       " 'B J SERVICES CO',\n",
       " 'EBAY INC',\n",
       " 'ILLINOIS TOOL WORKS INC',\n",
       " 'HELMERICH & PAYNE INC',\n",
       " 'AMERICAN GREETINGS CORP',\n",
       " 'THOMAS & BETTS CORP',\n",
       " 'LILLY ELI & CO',\n",
       " 'STAPLES INC',\n",
       " 'WASTE MANAGEMENT INC DEL',\n",
       " 'COMPUTER SCIENCES CORP',\n",
       " 'SAPIENT CORP',\n",
       " 'GAP INC',\n",
       " 'DOW CHEMICAL CO',\n",
       " 'PFIZER INC',\n",
       " 'WISCONSIN ENERGY CORP',\n",
       " 'CRANE CO',\n",
       " 'GENERAL GROWTH PROPERTIES INC',\n",
       " 'PRICELINE COM INC',\n",
       " 'DENBURY RESOURCES INC',\n",
       " 'JACOBS ENGINEERING GROUP INC',\n",
       " 'BURLINGTON NORTHERN SANTA FE CP',\n",
       " 'APOLLO GROUP INC',\n",
       " 'GRAINGER W W INC',\n",
       " 'WEYERHAEUSER CO',\n",
       " 'B M C SOFTWARE INC',\n",
       " 'P G & E CORP',\n",
       " 'SOUTHWEST AIRLINES CO',\n",
       " 'SEALED AIR CORP NEW',\n",
       " 'TENET HEALTHCARE CORP',\n",
       " 'PAYCHEX INC',\n",
       " 'GOLDMAN SACHS GROUP INC',\n",
       " 'C I G N A CORP',\n",
       " 'TIMKEN COMPANY',\n",
       " 'EASTMAN KODAK CO',\n",
       " 'SCHLUMBERGER LTD',\n",
       " 'SUPERVALU INC',\n",
       " 'MEREDITH CORP',\n",
       " 'NATIONAL SEMICONDUCTOR CORP',\n",
       " 'AUTOMATIC DATA PROCESSING INC',\n",
       " 'HARLEY DAVIDSON INC',\n",
       " 'VULCAN MATERIALS CO',\n",
       " 'SAFEWAY INC',\n",
       " 'F M C CORP')"
      ]
     },
     "execution_count": 310,
     "metadata": {},
     "output_type": "execute_result"
    }
   ],
   "source": [
    "eigen_vector_max[1]"
   ]
  },
  {
   "cell_type": "code",
   "execution_count": 98,
   "metadata": {
    "collapsed": false
   },
   "outputs": [],
   "source": [
    "return_company=[]\n",
    "used_company=[]\n",
    "for company in company_name:\n",
    "    ret=list(map(lambda x:np.float64(0.0) if x in error_return else np.float64(x),list(sp_by_company.get_group(company)['RET'])))\n",
    "    if len(ret)>1000:\n",
    "        return_company+=[ret[:1000]]\n",
    "        used_company+=[company]\n",
    "    #print(company)"
   ]
  },
  {
   "cell_type": "code",
   "execution_count": 99,
   "metadata": {
    "collapsed": true
   },
   "outputs": [],
   "source": [
    "return_company=np.array(return_company)"
   ]
  }
 ],
 "metadata": {
  "kernelspec": {
   "display_name": "Python 3",
   "language": "python",
   "name": "python3"
  },
  "language_info": {
   "codemirror_mode": {
    "name": "ipython",
    "version": 3
   },
   "file_extension": ".py",
   "mimetype": "text/x-python",
   "name": "python",
   "nbconvert_exporter": "python",
   "pygments_lexer": "ipython3",
   "version": "3.6.0"
  }
 },
 "nbformat": 4,
 "nbformat_minor": 0
}
