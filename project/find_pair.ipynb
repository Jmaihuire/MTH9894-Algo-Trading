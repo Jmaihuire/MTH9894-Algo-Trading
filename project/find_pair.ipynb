{
 "cells": [
  {
   "cell_type": "code",
   "execution_count": 55,
   "metadata": {
    "collapsed": false
   },
   "outputs": [],
   "source": [
    "import pandas as pd\n",
    "from pandas import TimeSeries\n",
    "import numpy as np\n",
    "import math\n",
    "from bokeh.charts import TimeSeries, output_file, show\n",
    "import statsmodels.tsa.stattools as stat"
   ]
  },
  {
   "cell_type": "code",
   "execution_count": 56,
   "metadata": {
    "collapsed": true
   },
   "outputs": [],
   "source": [
    "start=20100101\n",
    "end=20150101"
   ]
  },
  {
   "cell_type": "code",
   "execution_count": 103,
   "metadata": {
    "collapsed": false
   },
   "outputs": [
    {
     "name": "stderr",
     "output_type": "stream",
     "text": [
      "C:\\ProgramData\\Anaconda3\\lib\\site-packages\\IPython\\core\\interactiveshell.py:2881: DtypeWarning: Columns (18) have mixed types. Specify dtype option on import or set low_memory=False.\n",
      "  exec(code_obj, self.user_global_ns, self.user_ns)\n"
     ]
    }
   ],
   "source": [
    "data,pairs=find_pair(start,end)"
   ]
  },
  {
   "cell_type": "code",
   "execution_count": 100,
   "metadata": {
    "collapsed": true
   },
   "outputs": [],
   "source": [
    "def data_process(start,end):\n",
    "    sp500=pd.read_csv('C:/mine/Course/9894/project/data/sp_500_daily_prices.csv',usecols=['date','COMNAM','PRC',\\\n",
    "                    'RET','ASK','BID'],engine='c')\n",
    "    sp_recent=sp500[sp500['date']>=start]\n",
    "    sp_recent=sp_recent[sp_recent['date']<=end]\n",
    "    date_list=sorted(list(sp_recent['date']))\n",
    "    company_recent=list(sp_recent[sp_recent['date']==date_list[0]]['COMNAM'])\n",
    "    sp_orig=sp_recent[sp_recent['COMNAM']==company_recent[0]][['date','RET']]\n",
    "    sp_orig=pd.DataFrame(list(sp_orig['RET']),columns=[company_recent[0]],index=list(sp_orig['date']))\n",
    "    sp_orig=sp_orig[~sp_orig.index.duplicated(keep='first')]\n",
    "    for i in range(1,len(company_recent)):\n",
    "        company=company_recent[i]\n",
    "        current_data=sp_recent[sp_recent['COMNAM']==company][['date','RET']]\n",
    "        ret=pd.DataFrame(list(current_data['RET']),columns=[company],index=list(current_data['date']))\n",
    "        ret =ret[~ret.index.duplicated(keep='first')]\n",
    "        sp_orig=pd.concat([sp_orig,ret],join='outer',axis=1)\n",
    "    sp_ret=sp_orig.loc[date_list[0]:date_list[int(0.9*len(date_list))],:]\n",
    "    sp_ret=sp_ret.dropna(axis=1)\n",
    "    \n",
    "    \n",
    "    \n",
    "    sp_price=sp_recent[sp_recent['COMNAM']==company_recent[-1]][['date','PRC']]\n",
    "    sp_price=pd.DataFrame(list(sp_price['PRC']),columns=[company_recent[-1]],index=list(sp_price['date']))\n",
    "    sp_price=sp_price[~sp_price.index.duplicated(keep='first')]\n",
    "    for company in company_recent:\n",
    "        current_data=sp_recent[sp_recent['COMNAM']==company][['date','PRC']]\n",
    "        price=pd.DataFrame(list(current_data['PRC']),columns=[company],index=list(current_data['date']))\n",
    "        price =price[~price.index.duplicated(keep='first')]\n",
    "        sp_price=pd.concat([sp_price,price],join='outer',axis=1)\n",
    "    sp_price=sp_price.loc[date_list[0]:date_list[int(0.9*len(date_list))],:]\n",
    "    \n",
    "    return sp500,sp_ret,sp_price"
   ]
  },
  {
   "cell_type": "code",
   "execution_count": 101,
   "metadata": {
    "collapsed": true
   },
   "outputs": [],
   "source": [
    "def filter_pair(pairs):\n",
    "    selected_pair=[]\n",
    "    stock_list=[]\n",
    "    for pair in pairs:\n",
    "        if pair[0] not in stock_list and pair[1] not in stock_list:\n",
    "            selected_pair+=[pair]\n",
    "            stock_list+=pair\n",
    "    return selected_pair"
   ]
  },
  {
   "cell_type": "code",
   "execution_count": 102,
   "metadata": {
    "collapsed": false
   },
   "outputs": [],
   "source": [
    "def find_pair(start,end):\n",
    "    sp500,sp_ret,sp_price=data_process(start,end)\n",
    "    error_return=['E','D','C','B','A','']\n",
    "    sp_ret=sp_ret.applymap(lambda x:np.float64(0.0) if x in error_return else np.float64(x))\n",
    "    sp_pca=np.array(sp_ret)\n",
    "    cov_company=np.cov(sp_pca)\n",
    "    cov_company[np.isnan(cov_company)] = 0.0\n",
    "    eigen_val,eigen_vector=np.linalg.eig(cov_company)\n",
    "    eigen_vector_max=list(zip(eigen_vector[np.argmax(eigen_val)],sp_ret.columns))\n",
    "    eigen_vector_max.sort(key=lambda x:x[0],reverse=True)\n",
    "    eigen_vector_max=list(zip(*eigen_vector_max))\n",
    "    data=sp_price[list(eigen_vector_max[1][0:20])]\n",
    "    score_matrix, pvalue_matrix, pairs=find_cointegrated_pairs(data)\n",
    "    selected_pair=filter_pair(pairs)\n",
    "    data_inuse=sp500[sp500['date']>=date_list[int(0.9*len(date_list))]]\n",
    "    data_inuse=data_inuse[data_inuse['date']<=date_list[-1]]\n",
    "    return data_inuse,selected_pair"
   ]
  },
  {
   "cell_type": "code",
   "execution_count": 83,
   "metadata": {
    "collapsed": true
   },
   "outputs": [],
   "source": [
    "def find_cointegrated_pairs(data):\n",
    "    n = len(data.columns)\n",
    "    score_matrix = np.zeros((n, n))\n",
    "    pvalue_matrix = np.ones((n, n))\n",
    "    keys = list(data.columns)\n",
    "    pairs = []\n",
    "    for i in range(n):\n",
    "        for j in range(i+1, n):\n",
    "            S1 = np.array(data[keys[i]])\n",
    "            S2 = np.array(data[keys[j]])\n",
    "            result = stat.coint(S1, S2)\n",
    "            score = result[0]\n",
    "            pvalue = result[1]\n",
    "            score_matrix[i, j] = score\n",
    "            pvalue_matrix[i, j] = pvalue\n",
    "            if pvalue < 0.01:\n",
    "                pairs.append((keys[i], keys[j]))\n",
    "    return score_matrix, pvalue_matrix, pairs"
   ]
  },
  {
   "cell_type": "code",
   "execution_count": 9,
   "metadata": {
    "collapsed": false
   },
   "outputs": [],
   "source": []
  },
  {
   "cell_type": "code",
   "execution_count": 13,
   "metadata": {
    "collapsed": false
   },
   "outputs": [],
   "source": [
    "sp_new=sp_new.dropna(axis=1)"
   ]
  },
  {
   "cell_type": "code",
   "execution_count": 14,
   "metadata": {
    "collapsed": false
   },
   "outputs": [],
   "source": [
    "error_return=['E','D','C','B','A','']"
   ]
  },
  {
   "cell_type": "code",
   "execution_count": 15,
   "metadata": {
    "collapsed": false
   },
   "outputs": [],
   "source": [
    "sp_new=sp_new.applymap(lambda x:np.float64(0.0) if x in error_return else np.float64(x))"
   ]
  },
  {
   "cell_type": "code",
   "execution_count": 16,
   "metadata": {
    "collapsed": true
   },
   "outputs": [],
   "source": [
    "sp_pca=np.array(sp_new)"
   ]
  },
  {
   "cell_type": "code",
   "execution_count": 17,
   "metadata": {
    "collapsed": false
   },
   "outputs": [],
   "source": [
    "cov_company=np.cov(sp_pca)"
   ]
  },
  {
   "cell_type": "code",
   "execution_count": 18,
   "metadata": {
    "collapsed": false
   },
   "outputs": [],
   "source": [
    "cov_company[np.isnan(cov_company)] = 0.0"
   ]
  },
  {
   "cell_type": "code",
   "execution_count": 19,
   "metadata": {
    "collapsed": false
   },
   "outputs": [],
   "source": [
    "eigen_val,eigen_vector=np.linalg.eig(cov_company)"
   ]
  },
  {
   "cell_type": "code",
   "execution_count": 20,
   "metadata": {
    "collapsed": false
   },
   "outputs": [],
   "source": [
    "eigen_vector_max=list(zip(eigen_vector[np.argmax(eigen_val)],sp_new.columns))"
   ]
  },
  {
   "cell_type": "code",
   "execution_count": 21,
   "metadata": {
    "collapsed": false
   },
   "outputs": [],
   "source": [
    "eigen_vector_max.sort(key=lambda x:x[0],reverse=True)"
   ]
  },
  {
   "cell_type": "code",
   "execution_count": 22,
   "metadata": {
    "collapsed": false
   },
   "outputs": [],
   "source": [
    "eigen_vector_max=list(zip(*eigen_vector_max))"
   ]
  },
  {
   "cell_type": "code",
   "execution_count": 25,
   "metadata": {
    "collapsed": true
   },
   "outputs": [],
   "source": [
    "\n",
    "#sp_price=sp_price.dropna(axis=1)"
   ]
  },
  {
   "cell_type": "code",
   "execution_count": 27,
   "metadata": {
    "collapsed": false
   },
   "outputs": [],
   "source": [
    "data=sp_price[list(eigen_vector_max[1][:20])]"
   ]
  },
  {
   "cell_type": "code",
   "execution_count": 28,
   "metadata": {
    "collapsed": false
   },
   "outputs": [],
   "source": [
    "score_matrix, pvalue_matrix, pairs=find_cointegrated_pairs(data)"
   ]
  },
  {
   "cell_type": "code",
   "execution_count": 43,
   "metadata": {
    "collapsed": false
   },
   "outputs": [],
   "source": [
    "selected_pair=filter_pair(pairs)"
   ]
  },
  {
   "cell_type": "code",
   "execution_count": null,
   "metadata": {
    "collapsed": true
   },
   "outputs": [],
   "source": [
    "selected_pair=filter_pair(pairs)\n",
    "data_inuse=sp_recent=sp500[sp500['date']>=date_list[int(0.9*len(date_list))] and sp500['date']<=date_list[-1]]"
   ]
  },
  {
   "cell_type": "code",
   "execution_count": null,
   "metadata": {
    "collapsed": true
   },
   "outputs": [],
   "source": []
  },
  {
   "cell_type": "code",
   "execution_count": 8,
   "metadata": {
    "collapsed": false
   },
   "outputs": [],
   "source": [
    "sp_orig=sp_recent[sp_recent['COMNAM']==company_recent[0]][['date','RET']]\n",
    "sp_orig=pd.DataFrame(list(sp_orig['RET']),columns=[company_recent[0]],index=list(sp_orig['date']))\n",
    "sp_orig=sp_orig[~sp_orig.index.duplicated(keep='first')]"
   ]
  }
 ],
 "metadata": {
  "kernelspec": {
   "display_name": "Python 3",
   "language": "python",
   "name": "python3"
  },
  "language_info": {
   "codemirror_mode": {
    "name": "ipython",
    "version": 3
   },
   "file_extension": ".py",
   "mimetype": "text/x-python",
   "name": "python",
   "nbconvert_exporter": "python",
   "pygments_lexer": "ipython3",
   "version": "3.6.0"
  }
 },
 "nbformat": 4,
 "nbformat_minor": 0
}
