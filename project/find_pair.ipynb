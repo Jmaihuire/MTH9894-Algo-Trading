{
 "cells": [
  {
   "cell_type": "code",
   "execution_count": 34,
   "metadata": {
    "collapsed": false
   },
   "outputs": [],
   "source": [
    "import pandas as pd\n",
    "from pandas import TimeSeries\n",
    "import numpy as np\n",
    "import math\n",
    "from bokeh.charts import TimeSeries, output_file, show\n",
    "import statsmodels.tsa.stattools as stat"
   ]
  },
  {
   "cell_type": "code",
   "execution_count": 35,
   "metadata": {
    "collapsed": true
   },
   "outputs": [],
   "source": [
    "start=20000103\n",
    "end=20150101\n",
    "period=60\n",
    "num=10"
   ]
  },
  {
   "cell_type": "code",
   "execution_count": 36,
   "metadata": {
    "collapsed": false
   },
   "outputs": [
    {
     "name": "stderr",
     "output_type": "stream",
     "text": [
      "C:\\ProgramData\\Anaconda3\\lib\\site-packages\\IPython\\core\\interactiveshell.py:2881: DtypeWarning: Columns (18) have mixed types. Specify dtype option on import or set low_memory=False.\n",
      "  exec(code_obj, self.user_global_ns, self.user_ns)\n",
      "C:\\ProgramData\\Anaconda3\\lib\\site-packages\\IPython\\core\\interactiveshell.py:2881: DtypeWarning: Columns (13,17) have mixed types. Specify dtype option on import or set low_memory=False.\n",
      "  exec(code_obj, self.user_global_ns, self.user_ns)\n"
     ]
    }
   ],
   "source": [
    "data,pairs=find_pair(start,period,num)"
   ]
  },
  {
   "cell_type": "code",
   "execution_count": 30,
   "metadata": {
    "collapsed": true
   },
   "outputs": [],
   "source": [
    "def data_process(start,period):\n",
    "    with open ('C:/mine/Course/9894/project/data/sp_500_daily_prices.csv') as data:\n",
    "        sp500=pd.read_csv(data,usecols=['date','COMNAM','PRC','RET','ASK','BID'],engine='c')\n",
    "    date=sorted(list(set(sp500['date'])))\n",
    "    try:\n",
    "        date.index(start)\n",
    "    except:\n",
    "        raise ((\"Oops! The start date is not contained in our datesets.  Try again...\"))\n",
    "    try:\n",
    "        train_start=date[-9*period+date.index(start)]\n",
    "        date[date.index(start)+period]\n",
    "    except:\n",
    "        raise (\"Oops! The period is too long.  Try again...\")\n",
    "    sp_recent=sp500[sp500['date']>=train_start]\n",
    "    sp_recent=sp_recent[sp_recent['date']<=date[date.index(start)+period]]\n",
    "    \n",
    "    with open ('C:/mine/Course/9894/project/data/sp_500_daily_return.csv') as return_data:\n",
    "        sp_ret=pd.read_csv(return_data,index_col=0,engine='c')\n",
    "    sp_ret=sp_ret.loc[date[-9*period+date.index(start)]:date[period+date.index(start)]]\n",
    "    return sp_recent,sp_ret,date"
   ]
  },
  {
   "cell_type": "code",
   "execution_count": 25,
   "metadata": {
    "collapsed": true
   },
   "outputs": [],
   "source": [
    "def filter_pair(pvalue_key,num):\n",
    "    try:\n",
    "        pvalue_key[num-1]\n",
    "    except:\n",
    "        raise(\"Oops! Too large num\")\n",
    "    selected_pair=[]\n",
    "    stock_list=[]\n",
    "    i=0\n",
    "    while i<num:\n",
    "        for pair in pvalue_key:\n",
    "            if pair[1][0] not in stock_list and pair[1][1] not in stock_list:\n",
    "                selected_pair+=[pair[1]]\n",
    "                stock_list+=[pair[1][0]]\n",
    "                stock_list+=[pair[1][1]]\n",
    "                i+=1\n",
    "    \n",
    "    return selected_pair"
   ]
  },
  {
   "cell_type": "code",
   "execution_count": 26,
   "metadata": {
    "collapsed": false
   },
   "outputs": [],
   "source": [
    "def find_pair(start,period,num):\n",
    "    sp_recent,sp_ret,date=data_process(start,period)\n",
    "    error_return=['E','D','C','B','A','']\n",
    "    sp_ret=sp_ret.applymap(lambda x:np.float64(0.0) if x in error_return else np.float64(x))\n",
    "    sp_pca=np.array(sp_ret)\n",
    "    #print(sp_pca)\n",
    "    cov_company=np.cov(sp_pca)\n",
    "    cov_company[np.isnan(cov_company)] = 0.0\n",
    "    eigen_val,eigen_vector=np.linalg.eig(cov_company)\n",
    "    eigen_vector_max=list(zip(eigen_vector[np.argmax(eigen_val)],sp_ret.columns))\n",
    "    eigen_vector_max.sort(key=lambda x:x[0],reverse=True)\n",
    "    eigen_vector_max=list(zip(*eigen_vector_max))\n",
    "    data=sp_ret[list(eigen_vector_max[1][0:20])]\n",
    "    pvalue_key=find_cointegrated_pairs(data)\n",
    "    selected_pair=filter_pair(pvalue_key,num)\n",
    "    data_inuse=sp_recent[sp_recent['date']>=date[-period+date.index(start)]]\n",
    "    data_inuse=data_inuse[data_inuse['date']<date[date.index(start)+period]]\n",
    "    \n",
    "    #print('find_pair_done')\n",
    "    return data_inuse,selected_pair"
   ]
  },
  {
   "cell_type": "code",
   "execution_count": 27,
   "metadata": {
    "collapsed": true
   },
   "outputs": [],
   "source": [
    "def find_cointegrated_pairs(data):\n",
    "    n = len(data.columns)\n",
    "    #score_matrix = np.zeros((n, n))\n",
    "    pvalue_key=[]\n",
    "    keys = list(data.columns)\n",
    "    #pairs = []\n",
    "    for i in range(n):\n",
    "        for j in range(i+1, n):\n",
    "            S1 = np.array(data[keys[i]])\n",
    "            S2 = np.array(data[keys[j]])\n",
    "            result = stat.coint(S1, S2)\n",
    "            #score = result[0]\n",
    "            pvalue = result[1]\n",
    "            pvalue_key+=[[pvalue,(keys[i],keys[j])]]\n",
    "            #pairs.append((keys[i], keys[j]))\n",
    "    pvalue_key=sorted(pvalue_key,key=lambda x:x[0])\n",
    "    #print('find_cointegrated_pairs_done')\n",
    "    return pvalue_key"
   ]
  }
 ],
 "metadata": {
  "kernelspec": {
   "display_name": "Python 3",
   "language": "python",
   "name": "python3"
  },
  "language_info": {
   "codemirror_mode": {
    "name": "ipython",
    "version": 3
   },
   "file_extension": ".py",
   "mimetype": "text/x-python",
   "name": "python",
   "nbconvert_exporter": "python",
   "pygments_lexer": "ipython3",
   "version": "3.6.0"
  }
 },
 "nbformat": 4,
 "nbformat_minor": 0
}
