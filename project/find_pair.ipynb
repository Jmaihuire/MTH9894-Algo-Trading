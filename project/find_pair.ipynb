{
 "cells": [
  {
   "cell_type": "code",
   "execution_count": 1,
   "metadata": {
    "collapsed": false
   },
   "outputs": [],
   "source": [
    "import pandas as pd\n",
    "from pandas import TimeSeries\n",
    "import numpy as np\n",
    "import math\n",
    "from bokeh.charts import TimeSeries, output_file, show\n",
    "import statsmodels.tsa.stattools as stat"
   ]
  },
  {
   "cell_type": "code",
   "execution_count": 13,
   "metadata": {
    "collapsed": false
   },
   "outputs": [
    {
     "name": "stderr",
     "output_type": "stream",
     "text": [
      "C:\\ProgramData\\Anaconda3\\lib\\site-packages\\IPython\\core\\interactiveshell.py:2717: DtypeWarning: Columns (18) have mixed types. Specify dtype option on import or set low_memory=False.\n",
      "  interactivity=interactivity, compiler=compiler, result=result)\n"
     ]
    }
   ],
   "source": [
    "sp500=pd.read_csv('C:/mine/Course/9894/project/data/sp_500_daily_prices.csv',usecols=['date','COMNAM','PRC',\\\n",
    "                    'RET','ASK','BID'],engine='c')"
   ]
  },
  {
   "cell_type": "code",
   "execution_count": 16,
   "metadata": {
    "collapsed": true
   },
   "outputs": [],
   "source": [
    "sp_recent=sp500[sp500['date']>=start]\n",
    "sp_recent=sp_recent[sp_recent['date']<=end]"
   ]
  },
  {
   "cell_type": "code",
   "execution_count": 24,
   "metadata": {
    "collapsed": false
   },
   "outputs": [
    {
     "data": {
      "text/plain": [
       "20145101"
      ]
     },
     "execution_count": 24,
     "metadata": {},
     "output_type": "execute_result"
    }
   ],
   "source": [
    "start+int(0.9*(end-start))"
   ]
  },
  {
   "cell_type": "code",
   "execution_count": 26,
   "metadata": {
    "collapsed": false
   },
   "outputs": [
    {
     "data": {
      "text/html": [
       "<div>\n",
       "<table border=\"1\" class=\"dataframe\">\n",
       "  <thead>\n",
       "    <tr style=\"text-align: right;\">\n",
       "      <th></th>\n",
       "      <th>date</th>\n",
       "      <th>COMNAM</th>\n",
       "      <th>PRC</th>\n",
       "      <th>RET</th>\n",
       "      <th>BID</th>\n",
       "      <th>ASK</th>\n",
       "    </tr>\n",
       "  </thead>\n",
       "  <tbody>\n",
       "  </tbody>\n",
       "</table>\n",
       "</div>"
      ],
      "text/plain": [
       "Empty DataFrame\n",
       "Columns: [date, COMNAM, PRC, RET, BID, ASK]\n",
       "Index: []"
      ]
     },
     "execution_count": 26,
     "metadata": {},
     "output_type": "execute_result"
    }
   ],
   "source": [
    "data_in=sp_recent[sp_recent['date']>=start+int(0.9*(end-start))]\n",
    "data_in=data_in[data_in['date']<=end]\n",
    "data_in"
   ]
  },
  {
   "cell_type": "code",
   "execution_count": null,
   "metadata": {
    "collapsed": true
   },
   "outputs": [],
   "source": []
  },
  {
   "cell_type": "code",
   "execution_count": 30,
   "metadata": {
    "collapsed": true
   },
   "outputs": [],
   "source": [
    "start=20130101\n",
    "end=20150101"
   ]
  },
  {
   "cell_type": "code",
   "execution_count": 31,
   "metadata": {
    "collapsed": false
   },
   "outputs": [
    {
     "name": "stderr",
     "output_type": "stream",
     "text": [
      "C:\\ProgramData\\Anaconda3\\lib\\site-packages\\IPython\\core\\interactiveshell.py:2881: DtypeWarning: Columns (18) have mixed types. Specify dtype option on import or set low_memory=False.\n",
      "  exec(code_obj, self.user_global_ns, self.user_ns)\n",
      "C:\\ProgramData\\Anaconda3\\lib\\site-packages\\numpy\\linalg\\linalg.py:1546: RuntimeWarning: invalid value encountered in greater\n",
      "  return sum(S > tol)\n",
      "C:\\ProgramData\\Anaconda3\\lib\\site-packages\\scipy\\stats\\_distn_infrastructure.py:875: RuntimeWarning: invalid value encountered in greater\n",
      "  return (self.a < x) & (x < self.b)\n",
      "C:\\ProgramData\\Anaconda3\\lib\\site-packages\\scipy\\stats\\_distn_infrastructure.py:875: RuntimeWarning: invalid value encountered in less\n",
      "  return (self.a < x) & (x < self.b)\n",
      "C:\\ProgramData\\Anaconda3\\lib\\site-packages\\scipy\\stats\\_distn_infrastructure.py:1731: RuntimeWarning: invalid value encountered in greater_equal\n",
      "  cond2 = (x >= self.b) & cond0\n"
     ]
    }
   ],
   "source": [
    "data,pairs=find_pair(start,end)"
   ]
  },
  {
   "cell_type": "code",
   "execution_count": 32,
   "metadata": {
    "collapsed": false
   },
   "outputs": [
    {
     "data": {
      "text/html": [
       "<div>\n",
       "<table border=\"1\" class=\"dataframe\">\n",
       "  <thead>\n",
       "    <tr style=\"text-align: right;\">\n",
       "      <th></th>\n",
       "      <th>date</th>\n",
       "      <th>COMNAM</th>\n",
       "      <th>PRC</th>\n",
       "      <th>RET</th>\n",
       "      <th>BID</th>\n",
       "      <th>ASK</th>\n",
       "    </tr>\n",
       "  </thead>\n",
       "  <tbody>\n",
       "    <tr>\n",
       "      <th>12956</th>\n",
       "      <td>20141020</td>\n",
       "      <td>ORACLE CORP</td>\n",
       "      <td>37.80</td>\n",
       "      <td>-0.001848</td>\n",
       "      <td>37.79</td>\n",
       "      <td>37.80</td>\n",
       "    </tr>\n",
       "    <tr>\n",
       "      <th>12957</th>\n",
       "      <td>20141021</td>\n",
       "      <td>ORACLE CORP</td>\n",
       "      <td>38.35</td>\n",
       "      <td>0.01455</td>\n",
       "      <td>38.34</td>\n",
       "      <td>38.35</td>\n",
       "    </tr>\n",
       "    <tr>\n",
       "      <th>12958</th>\n",
       "      <td>20141022</td>\n",
       "      <td>ORACLE CORP</td>\n",
       "      <td>37.64</td>\n",
       "      <td>-0.018514</td>\n",
       "      <td>37.64</td>\n",
       "      <td>37.65</td>\n",
       "    </tr>\n",
       "    <tr>\n",
       "      <th>12959</th>\n",
       "      <td>20141023</td>\n",
       "      <td>ORACLE CORP</td>\n",
       "      <td>38.23</td>\n",
       "      <td>0.015675</td>\n",
       "      <td>38.22</td>\n",
       "      <td>38.23</td>\n",
       "    </tr>\n",
       "    <tr>\n",
       "      <th>12960</th>\n",
       "      <td>20141024</td>\n",
       "      <td>ORACLE CORP</td>\n",
       "      <td>38.73</td>\n",
       "      <td>0.013079</td>\n",
       "      <td>38.72</td>\n",
       "      <td>38.73</td>\n",
       "    </tr>\n",
       "    <tr>\n",
       "      <th>12961</th>\n",
       "      <td>20141027</td>\n",
       "      <td>ORACLE CORP</td>\n",
       "      <td>38.43</td>\n",
       "      <td>-0.007746</td>\n",
       "      <td>38.42</td>\n",
       "      <td>38.43</td>\n",
       "    </tr>\n",
       "    <tr>\n",
       "      <th>12962</th>\n",
       "      <td>20141028</td>\n",
       "      <td>ORACLE CORP</td>\n",
       "      <td>38.65</td>\n",
       "      <td>0.005725</td>\n",
       "      <td>38.62</td>\n",
       "      <td>38.63</td>\n",
       "    </tr>\n",
       "    <tr>\n",
       "      <th>12963</th>\n",
       "      <td>20141029</td>\n",
       "      <td>ORACLE CORP</td>\n",
       "      <td>38.58</td>\n",
       "      <td>-0.001811</td>\n",
       "      <td>38.58</td>\n",
       "      <td>38.59</td>\n",
       "    </tr>\n",
       "    <tr>\n",
       "      <th>12964</th>\n",
       "      <td>20141030</td>\n",
       "      <td>ORACLE CORP</td>\n",
       "      <td>38.50</td>\n",
       "      <td>-0.002074</td>\n",
       "      <td>38.50</td>\n",
       "      <td>38.51</td>\n",
       "    </tr>\n",
       "    <tr>\n",
       "      <th>12965</th>\n",
       "      <td>20141031</td>\n",
       "      <td>ORACLE CORP</td>\n",
       "      <td>39.05</td>\n",
       "      <td>0.014286</td>\n",
       "      <td>39.01</td>\n",
       "      <td>39.02</td>\n",
       "    </tr>\n",
       "    <tr>\n",
       "      <th>12966</th>\n",
       "      <td>20141103</td>\n",
       "      <td>ORACLE CORP</td>\n",
       "      <td>38.99</td>\n",
       "      <td>-0.001536</td>\n",
       "      <td>38.98</td>\n",
       "      <td>38.99</td>\n",
       "    </tr>\n",
       "    <tr>\n",
       "      <th>12967</th>\n",
       "      <td>20141104</td>\n",
       "      <td>ORACLE CORP</td>\n",
       "      <td>39.13</td>\n",
       "      <td>0.003591</td>\n",
       "      <td>39.11</td>\n",
       "      <td>39.12</td>\n",
       "    </tr>\n",
       "    <tr>\n",
       "      <th>12968</th>\n",
       "      <td>20141105</td>\n",
       "      <td>ORACLE CORP</td>\n",
       "      <td>39.29</td>\n",
       "      <td>0.004089</td>\n",
       "      <td>39.26</td>\n",
       "      <td>39.27</td>\n",
       "    </tr>\n",
       "    <tr>\n",
       "      <th>12969</th>\n",
       "      <td>20141106</td>\n",
       "      <td>ORACLE CORP</td>\n",
       "      <td>39.81</td>\n",
       "      <td>0.013235</td>\n",
       "      <td>39.80</td>\n",
       "      <td>39.81</td>\n",
       "    </tr>\n",
       "    <tr>\n",
       "      <th>12970</th>\n",
       "      <td>20141107</td>\n",
       "      <td>ORACLE CORP</td>\n",
       "      <td>39.94</td>\n",
       "      <td>0.003265</td>\n",
       "      <td>39.96</td>\n",
       "      <td>39.97</td>\n",
       "    </tr>\n",
       "    <tr>\n",
       "      <th>12971</th>\n",
       "      <td>20141110</td>\n",
       "      <td>ORACLE CORP</td>\n",
       "      <td>40.45</td>\n",
       "      <td>0.012769</td>\n",
       "      <td>40.45</td>\n",
       "      <td>40.46</td>\n",
       "    </tr>\n",
       "    <tr>\n",
       "      <th>12972</th>\n",
       "      <td>20141111</td>\n",
       "      <td>ORACLE CORP</td>\n",
       "      <td>40.47</td>\n",
       "      <td>0.000494</td>\n",
       "      <td>40.46</td>\n",
       "      <td>40.47</td>\n",
       "    </tr>\n",
       "    <tr>\n",
       "      <th>12973</th>\n",
       "      <td>20141112</td>\n",
       "      <td>ORACLE CORP</td>\n",
       "      <td>40.14</td>\n",
       "      <td>-0.008154</td>\n",
       "      <td>40.13</td>\n",
       "      <td>40.14</td>\n",
       "    </tr>\n",
       "    <tr>\n",
       "      <th>12974</th>\n",
       "      <td>20141113</td>\n",
       "      <td>ORACLE CORP</td>\n",
       "      <td>40.72</td>\n",
       "      <td>0.014449</td>\n",
       "      <td>40.72</td>\n",
       "      <td>40.73</td>\n",
       "    </tr>\n",
       "    <tr>\n",
       "      <th>12975</th>\n",
       "      <td>20141114</td>\n",
       "      <td>ORACLE CORP</td>\n",
       "      <td>40.84</td>\n",
       "      <td>0.002947</td>\n",
       "      <td>40.85</td>\n",
       "      <td>40.86</td>\n",
       "    </tr>\n",
       "    <tr>\n",
       "      <th>12976</th>\n",
       "      <td>20141117</td>\n",
       "      <td>ORACLE CORP</td>\n",
       "      <td>41.16</td>\n",
       "      <td>0.007835</td>\n",
       "      <td>41.14</td>\n",
       "      <td>41.16</td>\n",
       "    </tr>\n",
       "    <tr>\n",
       "      <th>12977</th>\n",
       "      <td>20141118</td>\n",
       "      <td>ORACLE CORP</td>\n",
       "      <td>41.26</td>\n",
       "      <td>0.00243</td>\n",
       "      <td>41.27</td>\n",
       "      <td>41.28</td>\n",
       "    </tr>\n",
       "    <tr>\n",
       "      <th>12978</th>\n",
       "      <td>20141119</td>\n",
       "      <td>ORACLE CORP</td>\n",
       "      <td>40.92</td>\n",
       "      <td>-0.00824</td>\n",
       "      <td>40.91</td>\n",
       "      <td>40.92</td>\n",
       "    </tr>\n",
       "    <tr>\n",
       "      <th>12979</th>\n",
       "      <td>20141120</td>\n",
       "      <td>ORACLE CORP</td>\n",
       "      <td>40.92</td>\n",
       "      <td>0</td>\n",
       "      <td>40.92</td>\n",
       "      <td>40.93</td>\n",
       "    </tr>\n",
       "    <tr>\n",
       "      <th>12980</th>\n",
       "      <td>20141121</td>\n",
       "      <td>ORACLE CORP</td>\n",
       "      <td>41.44</td>\n",
       "      <td>0.012708</td>\n",
       "      <td>41.42</td>\n",
       "      <td>41.43</td>\n",
       "    </tr>\n",
       "    <tr>\n",
       "      <th>12981</th>\n",
       "      <td>20141124</td>\n",
       "      <td>ORACLE CORP</td>\n",
       "      <td>41.43</td>\n",
       "      <td>-0.000241</td>\n",
       "      <td>41.42</td>\n",
       "      <td>41.43</td>\n",
       "    </tr>\n",
       "    <tr>\n",
       "      <th>12982</th>\n",
       "      <td>20141125</td>\n",
       "      <td>ORACLE CORP</td>\n",
       "      <td>41.15</td>\n",
       "      <td>-0.006758</td>\n",
       "      <td>41.16</td>\n",
       "      <td>41.17</td>\n",
       "    </tr>\n",
       "    <tr>\n",
       "      <th>12983</th>\n",
       "      <td>20141126</td>\n",
       "      <td>ORACLE CORP</td>\n",
       "      <td>41.87</td>\n",
       "      <td>0.017497</td>\n",
       "      <td>41.88</td>\n",
       "      <td>41.89</td>\n",
       "    </tr>\n",
       "    <tr>\n",
       "      <th>12984</th>\n",
       "      <td>20141128</td>\n",
       "      <td>ORACLE CORP</td>\n",
       "      <td>42.41</td>\n",
       "      <td>0.012897</td>\n",
       "      <td>42.41</td>\n",
       "      <td>42.42</td>\n",
       "    </tr>\n",
       "    <tr>\n",
       "      <th>12985</th>\n",
       "      <td>20141201</td>\n",
       "      <td>ORACLE CORP</td>\n",
       "      <td>42.08</td>\n",
       "      <td>-0.007781</td>\n",
       "      <td>42.08</td>\n",
       "      <td>42.09</td>\n",
       "    </tr>\n",
       "    <tr>\n",
       "      <th>...</th>\n",
       "      <td>...</td>\n",
       "      <td>...</td>\n",
       "      <td>...</td>\n",
       "      <td>...</td>\n",
       "      <td>...</td>\n",
       "      <td>...</td>\n",
       "    </tr>\n",
       "    <tr>\n",
       "      <th>4747348</th>\n",
       "      <td>20141118</td>\n",
       "      <td>Q E P RESOURCES INC</td>\n",
       "      <td>23.42</td>\n",
       "      <td>0.012976</td>\n",
       "      <td>23.42</td>\n",
       "      <td>23.43</td>\n",
       "    </tr>\n",
       "    <tr>\n",
       "      <th>4747349</th>\n",
       "      <td>20141119</td>\n",
       "      <td>Q E P RESOURCES INC</td>\n",
       "      <td>23.46</td>\n",
       "      <td>0.001708</td>\n",
       "      <td>23.45</td>\n",
       "      <td>23.46</td>\n",
       "    </tr>\n",
       "    <tr>\n",
       "      <th>4747350</th>\n",
       "      <td>20141120</td>\n",
       "      <td>Q E P RESOURCES INC</td>\n",
       "      <td>24.71</td>\n",
       "      <td>0.053282</td>\n",
       "      <td>24.70</td>\n",
       "      <td>24.71</td>\n",
       "    </tr>\n",
       "    <tr>\n",
       "      <th>4747351</th>\n",
       "      <td>20141121</td>\n",
       "      <td>Q E P RESOURCES INC</td>\n",
       "      <td>25.33</td>\n",
       "      <td>0.025091</td>\n",
       "      <td>25.31</td>\n",
       "      <td>25.32</td>\n",
       "    </tr>\n",
       "    <tr>\n",
       "      <th>4747352</th>\n",
       "      <td>20141124</td>\n",
       "      <td>Q E P RESOURCES INC</td>\n",
       "      <td>24.98</td>\n",
       "      <td>-0.013818</td>\n",
       "      <td>24.98</td>\n",
       "      <td>24.99</td>\n",
       "    </tr>\n",
       "    <tr>\n",
       "      <th>4747353</th>\n",
       "      <td>20141125</td>\n",
       "      <td>Q E P RESOURCES INC</td>\n",
       "      <td>24.94</td>\n",
       "      <td>-0.001601</td>\n",
       "      <td>24.93</td>\n",
       "      <td>24.94</td>\n",
       "    </tr>\n",
       "    <tr>\n",
       "      <th>4747354</th>\n",
       "      <td>20141126</td>\n",
       "      <td>Q E P RESOURCES INC</td>\n",
       "      <td>24.18</td>\n",
       "      <td>-0.030473</td>\n",
       "      <td>24.18</td>\n",
       "      <td>24.19</td>\n",
       "    </tr>\n",
       "    <tr>\n",
       "      <th>4747355</th>\n",
       "      <td>20141128</td>\n",
       "      <td>Q E P RESOURCES INC</td>\n",
       "      <td>20.44</td>\n",
       "      <td>-0.154673</td>\n",
       "      <td>20.44</td>\n",
       "      <td>20.45</td>\n",
       "    </tr>\n",
       "    <tr>\n",
       "      <th>4747356</th>\n",
       "      <td>20141201</td>\n",
       "      <td>Q E P RESOURCES INC</td>\n",
       "      <td>21.09</td>\n",
       "      <td>0.031800</td>\n",
       "      <td>21.08</td>\n",
       "      <td>21.09</td>\n",
       "    </tr>\n",
       "    <tr>\n",
       "      <th>4747357</th>\n",
       "      <td>20141202</td>\n",
       "      <td>Q E P RESOURCES INC</td>\n",
       "      <td>21.25</td>\n",
       "      <td>0.007587</td>\n",
       "      <td>21.25</td>\n",
       "      <td>21.26</td>\n",
       "    </tr>\n",
       "    <tr>\n",
       "      <th>4747358</th>\n",
       "      <td>20141203</td>\n",
       "      <td>Q E P RESOURCES INC</td>\n",
       "      <td>21.98</td>\n",
       "      <td>0.034353</td>\n",
       "      <td>21.99</td>\n",
       "      <td>22.00</td>\n",
       "    </tr>\n",
       "    <tr>\n",
       "      <th>4747359</th>\n",
       "      <td>20141204</td>\n",
       "      <td>Q E P RESOURCES INC</td>\n",
       "      <td>22.13</td>\n",
       "      <td>0.006824</td>\n",
       "      <td>22.13</td>\n",
       "      <td>22.14</td>\n",
       "    </tr>\n",
       "    <tr>\n",
       "      <th>4747360</th>\n",
       "      <td>20141205</td>\n",
       "      <td>Q E P RESOURCES INC</td>\n",
       "      <td>22.24</td>\n",
       "      <td>0.004971</td>\n",
       "      <td>22.23</td>\n",
       "      <td>22.24</td>\n",
       "    </tr>\n",
       "    <tr>\n",
       "      <th>4747361</th>\n",
       "      <td>20141208</td>\n",
       "      <td>Q E P RESOURCES INC</td>\n",
       "      <td>20.94</td>\n",
       "      <td>-0.058453</td>\n",
       "      <td>20.95</td>\n",
       "      <td>20.96</td>\n",
       "    </tr>\n",
       "    <tr>\n",
       "      <th>4747362</th>\n",
       "      <td>20141209</td>\n",
       "      <td>Q E P RESOURCES INC</td>\n",
       "      <td>21.94</td>\n",
       "      <td>0.047755</td>\n",
       "      <td>21.94</td>\n",
       "      <td>21.95</td>\n",
       "    </tr>\n",
       "    <tr>\n",
       "      <th>4747363</th>\n",
       "      <td>20141210</td>\n",
       "      <td>Q E P RESOURCES INC</td>\n",
       "      <td>20.65</td>\n",
       "      <td>-0.058797</td>\n",
       "      <td>20.65</td>\n",
       "      <td>20.66</td>\n",
       "    </tr>\n",
       "    <tr>\n",
       "      <th>4747364</th>\n",
       "      <td>20141211</td>\n",
       "      <td>Q E P RESOURCES INC</td>\n",
       "      <td>20.00</td>\n",
       "      <td>-0.031477</td>\n",
       "      <td>19.99</td>\n",
       "      <td>20.00</td>\n",
       "    </tr>\n",
       "    <tr>\n",
       "      <th>4747365</th>\n",
       "      <td>20141212</td>\n",
       "      <td>Q E P RESOURCES INC</td>\n",
       "      <td>19.37</td>\n",
       "      <td>-0.031500</td>\n",
       "      <td>19.38</td>\n",
       "      <td>19.39</td>\n",
       "    </tr>\n",
       "    <tr>\n",
       "      <th>4747366</th>\n",
       "      <td>20141215</td>\n",
       "      <td>Q E P RESOURCES INC</td>\n",
       "      <td>18.64</td>\n",
       "      <td>-0.037687</td>\n",
       "      <td>18.63</td>\n",
       "      <td>18.64</td>\n",
       "    </tr>\n",
       "    <tr>\n",
       "      <th>4747367</th>\n",
       "      <td>20141216</td>\n",
       "      <td>Q E P RESOURCES INC</td>\n",
       "      <td>18.71</td>\n",
       "      <td>0.003755</td>\n",
       "      <td>18.70</td>\n",
       "      <td>18.71</td>\n",
       "    </tr>\n",
       "    <tr>\n",
       "      <th>4747368</th>\n",
       "      <td>20141217</td>\n",
       "      <td>Q E P RESOURCES INC</td>\n",
       "      <td>19.91</td>\n",
       "      <td>0.064137</td>\n",
       "      <td>19.90</td>\n",
       "      <td>19.91</td>\n",
       "    </tr>\n",
       "    <tr>\n",
       "      <th>4747369</th>\n",
       "      <td>20141218</td>\n",
       "      <td>Q E P RESOURCES INC</td>\n",
       "      <td>19.69</td>\n",
       "      <td>-0.011050</td>\n",
       "      <td>19.68</td>\n",
       "      <td>19.69</td>\n",
       "    </tr>\n",
       "    <tr>\n",
       "      <th>4747370</th>\n",
       "      <td>20141219</td>\n",
       "      <td>Q E P RESOURCES INC</td>\n",
       "      <td>20.53</td>\n",
       "      <td>0.042661</td>\n",
       "      <td>20.52</td>\n",
       "      <td>20.53</td>\n",
       "    </tr>\n",
       "    <tr>\n",
       "      <th>4747371</th>\n",
       "      <td>20141222</td>\n",
       "      <td>Q E P RESOURCES INC</td>\n",
       "      <td>19.95</td>\n",
       "      <td>-0.028251</td>\n",
       "      <td>19.94</td>\n",
       "      <td>19.95</td>\n",
       "    </tr>\n",
       "    <tr>\n",
       "      <th>4747372</th>\n",
       "      <td>20141223</td>\n",
       "      <td>Q E P RESOURCES INC</td>\n",
       "      <td>19.77</td>\n",
       "      <td>-0.009023</td>\n",
       "      <td>19.76</td>\n",
       "      <td>19.77</td>\n",
       "    </tr>\n",
       "    <tr>\n",
       "      <th>4747373</th>\n",
       "      <td>20141224</td>\n",
       "      <td>Q E P RESOURCES INC</td>\n",
       "      <td>19.40</td>\n",
       "      <td>-0.018715</td>\n",
       "      <td>19.39</td>\n",
       "      <td>19.40</td>\n",
       "    </tr>\n",
       "    <tr>\n",
       "      <th>4747374</th>\n",
       "      <td>20141226</td>\n",
       "      <td>Q E P RESOURCES INC</td>\n",
       "      <td>19.59</td>\n",
       "      <td>0.009794</td>\n",
       "      <td>19.59</td>\n",
       "      <td>19.60</td>\n",
       "    </tr>\n",
       "    <tr>\n",
       "      <th>4747375</th>\n",
       "      <td>20141229</td>\n",
       "      <td>Q E P RESOURCES INC</td>\n",
       "      <td>20.01</td>\n",
       "      <td>0.021440</td>\n",
       "      <td>20.00</td>\n",
       "      <td>20.01</td>\n",
       "    </tr>\n",
       "    <tr>\n",
       "      <th>4747376</th>\n",
       "      <td>20141230</td>\n",
       "      <td>Q E P RESOURCES INC</td>\n",
       "      <td>19.70</td>\n",
       "      <td>-0.015492</td>\n",
       "      <td>19.70</td>\n",
       "      <td>19.71</td>\n",
       "    </tr>\n",
       "    <tr>\n",
       "      <th>4747377</th>\n",
       "      <td>20141231</td>\n",
       "      <td>Q E P RESOURCES INC</td>\n",
       "      <td>20.22</td>\n",
       "      <td>0.026396</td>\n",
       "      <td>20.22</td>\n",
       "      <td>20.23</td>\n",
       "    </tr>\n",
       "  </tbody>\n",
       "</table>\n",
       "<p>31901 rows × 6 columns</p>\n",
       "</div>"
      ],
      "text/plain": [
       "             date               COMNAM    PRC        RET    BID    ASK\n",
       "12956    20141020          ORACLE CORP  37.80  -0.001848  37.79  37.80\n",
       "12957    20141021          ORACLE CORP  38.35    0.01455  38.34  38.35\n",
       "12958    20141022          ORACLE CORP  37.64  -0.018514  37.64  37.65\n",
       "12959    20141023          ORACLE CORP  38.23   0.015675  38.22  38.23\n",
       "12960    20141024          ORACLE CORP  38.73   0.013079  38.72  38.73\n",
       "12961    20141027          ORACLE CORP  38.43  -0.007746  38.42  38.43\n",
       "12962    20141028          ORACLE CORP  38.65   0.005725  38.62  38.63\n",
       "12963    20141029          ORACLE CORP  38.58  -0.001811  38.58  38.59\n",
       "12964    20141030          ORACLE CORP  38.50  -0.002074  38.50  38.51\n",
       "12965    20141031          ORACLE CORP  39.05   0.014286  39.01  39.02\n",
       "12966    20141103          ORACLE CORP  38.99  -0.001536  38.98  38.99\n",
       "12967    20141104          ORACLE CORP  39.13   0.003591  39.11  39.12\n",
       "12968    20141105          ORACLE CORP  39.29   0.004089  39.26  39.27\n",
       "12969    20141106          ORACLE CORP  39.81   0.013235  39.80  39.81\n",
       "12970    20141107          ORACLE CORP  39.94   0.003265  39.96  39.97\n",
       "12971    20141110          ORACLE CORP  40.45   0.012769  40.45  40.46\n",
       "12972    20141111          ORACLE CORP  40.47   0.000494  40.46  40.47\n",
       "12973    20141112          ORACLE CORP  40.14  -0.008154  40.13  40.14\n",
       "12974    20141113          ORACLE CORP  40.72   0.014449  40.72  40.73\n",
       "12975    20141114          ORACLE CORP  40.84   0.002947  40.85  40.86\n",
       "12976    20141117          ORACLE CORP  41.16   0.007835  41.14  41.16\n",
       "12977    20141118          ORACLE CORP  41.26    0.00243  41.27  41.28\n",
       "12978    20141119          ORACLE CORP  40.92   -0.00824  40.91  40.92\n",
       "12979    20141120          ORACLE CORP  40.92          0  40.92  40.93\n",
       "12980    20141121          ORACLE CORP  41.44   0.012708  41.42  41.43\n",
       "12981    20141124          ORACLE CORP  41.43  -0.000241  41.42  41.43\n",
       "12982    20141125          ORACLE CORP  41.15  -0.006758  41.16  41.17\n",
       "12983    20141126          ORACLE CORP  41.87   0.017497  41.88  41.89\n",
       "12984    20141128          ORACLE CORP  42.41   0.012897  42.41  42.42\n",
       "12985    20141201          ORACLE CORP  42.08  -0.007781  42.08  42.09\n",
       "...           ...                  ...    ...        ...    ...    ...\n",
       "4747348  20141118  Q E P RESOURCES INC  23.42   0.012976  23.42  23.43\n",
       "4747349  20141119  Q E P RESOURCES INC  23.46   0.001708  23.45  23.46\n",
       "4747350  20141120  Q E P RESOURCES INC  24.71   0.053282  24.70  24.71\n",
       "4747351  20141121  Q E P RESOURCES INC  25.33   0.025091  25.31  25.32\n",
       "4747352  20141124  Q E P RESOURCES INC  24.98  -0.013818  24.98  24.99\n",
       "4747353  20141125  Q E P RESOURCES INC  24.94  -0.001601  24.93  24.94\n",
       "4747354  20141126  Q E P RESOURCES INC  24.18  -0.030473  24.18  24.19\n",
       "4747355  20141128  Q E P RESOURCES INC  20.44  -0.154673  20.44  20.45\n",
       "4747356  20141201  Q E P RESOURCES INC  21.09   0.031800  21.08  21.09\n",
       "4747357  20141202  Q E P RESOURCES INC  21.25   0.007587  21.25  21.26\n",
       "4747358  20141203  Q E P RESOURCES INC  21.98   0.034353  21.99  22.00\n",
       "4747359  20141204  Q E P RESOURCES INC  22.13   0.006824  22.13  22.14\n",
       "4747360  20141205  Q E P RESOURCES INC  22.24   0.004971  22.23  22.24\n",
       "4747361  20141208  Q E P RESOURCES INC  20.94  -0.058453  20.95  20.96\n",
       "4747362  20141209  Q E P RESOURCES INC  21.94   0.047755  21.94  21.95\n",
       "4747363  20141210  Q E P RESOURCES INC  20.65  -0.058797  20.65  20.66\n",
       "4747364  20141211  Q E P RESOURCES INC  20.00  -0.031477  19.99  20.00\n",
       "4747365  20141212  Q E P RESOURCES INC  19.37  -0.031500  19.38  19.39\n",
       "4747366  20141215  Q E P RESOURCES INC  18.64  -0.037687  18.63  18.64\n",
       "4747367  20141216  Q E P RESOURCES INC  18.71   0.003755  18.70  18.71\n",
       "4747368  20141217  Q E P RESOURCES INC  19.91   0.064137  19.90  19.91\n",
       "4747369  20141218  Q E P RESOURCES INC  19.69  -0.011050  19.68  19.69\n",
       "4747370  20141219  Q E P RESOURCES INC  20.53   0.042661  20.52  20.53\n",
       "4747371  20141222  Q E P RESOURCES INC  19.95  -0.028251  19.94  19.95\n",
       "4747372  20141223  Q E P RESOURCES INC  19.77  -0.009023  19.76  19.77\n",
       "4747373  20141224  Q E P RESOURCES INC  19.40  -0.018715  19.39  19.40\n",
       "4747374  20141226  Q E P RESOURCES INC  19.59   0.009794  19.59  19.60\n",
       "4747375  20141229  Q E P RESOURCES INC  20.01   0.021440  20.00  20.01\n",
       "4747376  20141230  Q E P RESOURCES INC  19.70  -0.015492  19.70  19.71\n",
       "4747377  20141231  Q E P RESOURCES INC  20.22   0.026396  20.22  20.23\n",
       "\n",
       "[31901 rows x 6 columns]"
      ]
     },
     "execution_count": 32,
     "metadata": {},
     "output_type": "execute_result"
    }
   ],
   "source": [
    "data"
   ]
  },
  {
   "cell_type": "code",
   "execution_count": 27,
   "metadata": {
    "collapsed": true
   },
   "outputs": [],
   "source": [
    "def data_process(start,end):\n",
    "    sp500=pd.read_csv('C:/mine/Course/9894/project/data/sp_500_daily_prices.csv',usecols=['date','COMNAM','PRC',\\\n",
    "                    'RET','ASK','BID'],engine='c')\n",
    "    sp_recent=sp500[sp500['date']>=start]\n",
    "    sp_recent=sp_recent[sp_recent['date']<=end]\n",
    "    \n",
    "    date_list=sorted(list(sp_recent['date']))\n",
    "    company_recent=list(sp_recent[sp_recent['date']==date_list[0]]['COMNAM'])\n",
    "    sp_orig=sp_recent[sp_recent['COMNAM']==company_recent[0]][['date','RET']]\n",
    "    sp_orig=pd.DataFrame(list(sp_orig['RET']),columns=[company_recent[0]],index=list(sp_orig['date']))\n",
    "    sp_orig=sp_orig[~sp_orig.index.duplicated(keep='first')]\n",
    "    for i in range(1,len(company_recent)):\n",
    "        company=company_recent[i]\n",
    "        current_data=sp_recent[sp_recent['COMNAM']==company][['date','RET']]\n",
    "        ret=pd.DataFrame(list(current_data['RET']),columns=[company],index=list(current_data['date']))\n",
    "        ret =ret[~ret.index.duplicated(keep='first')]\n",
    "        sp_orig=pd.concat([sp_orig,ret],join='outer',axis=1)\n",
    "    sp_ret=sp_orig.loc[date_list[0]:date_list[int(0.9*len(date_list))],:]\n",
    "    sp_ret=sp_ret.dropna(axis=1)\n",
    "    \n",
    "    \n",
    "    sp_price=sp_recent[sp_recent['COMNAM']==company_recent[-1]][['date','PRC']]\n",
    "    sp_price=pd.DataFrame(list(sp_price['PRC']),columns=[company_recent[-1]],index=list(sp_price['date']))\n",
    "    sp_price=sp_price[~sp_price.index.duplicated(keep='first')]\n",
    "    for company in company_recent:\n",
    "        current_data=sp_recent[sp_recent['COMNAM']==company][['date','PRC']]\n",
    "        price=pd.DataFrame(list(current_data['PRC']),columns=[company],index=list(current_data['date']))\n",
    "        price =price[~price.index.duplicated(keep='first')]\n",
    "        sp_price=pd.concat([sp_price,price],join='outer',axis=1)\n",
    "    sp_price=sp_price.loc[date_list[0]:date_list[int(0.9*len(date_list))],:]\n",
    "    \n",
    "    return sp500,sp_ret,sp_price,date_list"
   ]
  },
  {
   "cell_type": "code",
   "execution_count": 28,
   "metadata": {
    "collapsed": true
   },
   "outputs": [],
   "source": [
    "def filter_pair(pairs):\n",
    "    selected_pair=[]\n",
    "    stock_list=[]\n",
    "    for pair in pairs:\n",
    "        if pair[0] not in stock_list and pair[1] not in stock_list:\n",
    "            selected_pair+=[pair]\n",
    "            stock_list+=pair\n",
    "    return selected_pair"
   ]
  },
  {
   "cell_type": "code",
   "execution_count": 29,
   "metadata": {
    "collapsed": false
   },
   "outputs": [],
   "source": [
    "def find_pair(start,end):\n",
    "    sp500,sp_ret,sp_price,date_list=data_process(start,end)\n",
    "    error_return=['E','D','C','B','A','']\n",
    "    sp_ret=sp_ret.applymap(lambda x:np.float64(0.0) if x in error_return else np.float64(x))\n",
    "    sp_pca=np.array(sp_ret)\n",
    "    cov_company=np.cov(sp_pca)\n",
    "    cov_company[np.isnan(cov_company)] = 0.0\n",
    "    eigen_val,eigen_vector=np.linalg.eig(cov_company)\n",
    "    eigen_vector_max=list(zip(eigen_vector[np.argmax(eigen_val)],sp_ret.columns))\n",
    "    eigen_vector_max.sort(key=lambda x:x[0],reverse=True)\n",
    "    eigen_vector_max=list(zip(*eigen_vector_max))\n",
    "    data=sp_price[list(eigen_vector_max[1][0:20])]\n",
    "    score_matrix, pvalue_matrix, pairs=find_cointegrated_pairs(data)\n",
    "    selected_pair=filter_pair(pairs)\n",
    "    data_inuse=sp_recent[sp_recent['date']>=date_list[int(0.9*len(date_list))]]\n",
    "    data_inuse=data_inuse[data_inuse['date']<=end]\n",
    "    return data_inuse,selected_pair"
   ]
  },
  {
   "cell_type": "code",
   "execution_count": 7,
   "metadata": {
    "collapsed": true
   },
   "outputs": [],
   "source": [
    "def find_cointegrated_pairs(data):\n",
    "    n = len(data.columns)\n",
    "    score_matrix = np.zeros((n, n))\n",
    "    pvalue_matrix = np.ones((n, n))\n",
    "    keys = list(data.columns)\n",
    "    pairs = []\n",
    "    for i in range(n):\n",
    "        for j in range(i+1, n):\n",
    "            S1 = np.array(data[keys[i]])\n",
    "            S2 = np.array(data[keys[j]])\n",
    "            result = stat.coint(S1, S2)\n",
    "            score = result[0]\n",
    "            pvalue = result[1]\n",
    "            score_matrix[i, j] = score\n",
    "            pvalue_matrix[i, j] = pvalue\n",
    "            if pvalue < 0.01:\n",
    "                pairs.append((keys[i], keys[j]))\n",
    "    return score_matrix, pvalue_matrix, pairs"
   ]
  },
  {
   "cell_type": "code",
   "execution_count": 9,
   "metadata": {
    "collapsed": false
   },
   "outputs": [],
   "source": []
  },
  {
   "cell_type": "code",
   "execution_count": 13,
   "metadata": {
    "collapsed": false
   },
   "outputs": [],
   "source": [
    "sp_new=sp_new.dropna(axis=1)"
   ]
  },
  {
   "cell_type": "code",
   "execution_count": 14,
   "metadata": {
    "collapsed": false
   },
   "outputs": [],
   "source": [
    "error_return=['E','D','C','B','A','']"
   ]
  },
  {
   "cell_type": "code",
   "execution_count": 15,
   "metadata": {
    "collapsed": false
   },
   "outputs": [],
   "source": [
    "sp_new=sp_new.applymap(lambda x:np.float64(0.0) if x in error_return else np.float64(x))"
   ]
  },
  {
   "cell_type": "code",
   "execution_count": 16,
   "metadata": {
    "collapsed": true
   },
   "outputs": [],
   "source": [
    "sp_pca=np.array(sp_new)"
   ]
  },
  {
   "cell_type": "code",
   "execution_count": 17,
   "metadata": {
    "collapsed": false
   },
   "outputs": [],
   "source": [
    "cov_company=np.cov(sp_pca)"
   ]
  },
  {
   "cell_type": "code",
   "execution_count": 18,
   "metadata": {
    "collapsed": false
   },
   "outputs": [],
   "source": [
    "cov_company[np.isnan(cov_company)] = 0.0"
   ]
  },
  {
   "cell_type": "code",
   "execution_count": 19,
   "metadata": {
    "collapsed": false
   },
   "outputs": [],
   "source": [
    "eigen_val,eigen_vector=np.linalg.eig(cov_company)"
   ]
  },
  {
   "cell_type": "code",
   "execution_count": 20,
   "metadata": {
    "collapsed": false
   },
   "outputs": [],
   "source": [
    "eigen_vector_max=list(zip(eigen_vector[np.argmax(eigen_val)],sp_new.columns))"
   ]
  },
  {
   "cell_type": "code",
   "execution_count": 21,
   "metadata": {
    "collapsed": false
   },
   "outputs": [],
   "source": [
    "eigen_vector_max.sort(key=lambda x:x[0],reverse=True)"
   ]
  },
  {
   "cell_type": "code",
   "execution_count": 22,
   "metadata": {
    "collapsed": false
   },
   "outputs": [],
   "source": [
    "eigen_vector_max=list(zip(*eigen_vector_max))"
   ]
  },
  {
   "cell_type": "code",
   "execution_count": 25,
   "metadata": {
    "collapsed": true
   },
   "outputs": [],
   "source": [
    "\n",
    "#sp_price=sp_price.dropna(axis=1)"
   ]
  },
  {
   "cell_type": "code",
   "execution_count": 27,
   "metadata": {
    "collapsed": false
   },
   "outputs": [],
   "source": [
    "data=sp_price[list(eigen_vector_max[1][:20])]"
   ]
  },
  {
   "cell_type": "code",
   "execution_count": 28,
   "metadata": {
    "collapsed": false
   },
   "outputs": [],
   "source": [
    "score_matrix, pvalue_matrix, pairs=find_cointegrated_pairs(data)"
   ]
  },
  {
   "cell_type": "code",
   "execution_count": 43,
   "metadata": {
    "collapsed": false
   },
   "outputs": [],
   "source": [
    "selected_pair=filter_pair(pairs)"
   ]
  },
  {
   "cell_type": "code",
   "execution_count": null,
   "metadata": {
    "collapsed": true
   },
   "outputs": [],
   "source": [
    "selected_pair=filter_pair(pairs)\n",
    "data_inuse=sp_recent=sp500[sp500['date']>=date_list[int(0.9*len(date_list))] and sp500['date']<=date_list[-1]]"
   ]
  },
  {
   "cell_type": "code",
   "execution_count": null,
   "metadata": {
    "collapsed": true
   },
   "outputs": [],
   "source": []
  },
  {
   "cell_type": "code",
   "execution_count": 8,
   "metadata": {
    "collapsed": false
   },
   "outputs": [],
   "source": [
    "sp_orig=sp_recent[sp_recent['COMNAM']==company_recent[0]][['date','RET']]\n",
    "sp_orig=pd.DataFrame(list(sp_orig['RET']),columns=[company_recent[0]],index=list(sp_orig['date']))\n",
    "sp_orig=sp_orig[~sp_orig.index.duplicated(keep='first')]"
   ]
  }
 ],
 "metadata": {
  "kernelspec": {
   "display_name": "Python 3",
   "language": "python",
   "name": "python3"
  }
 },
 "nbformat": 4,
 "nbformat_minor": 0
}
