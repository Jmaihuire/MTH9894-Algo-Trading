{
 "cells": [
  {
   "cell_type": "code",
   "execution_count": 2,
   "metadata": {
    "collapsed": true
   },
   "outputs": [],
   "source": [
    "import numpy as np\n",
    "import pandas as pd\n",
    "from scipy import stats\n",
    "import matplotlib.pyplot as plt\n",
    "from math import *\n",
    "\n",
    "%matplotlib inline"
   ]
  },
  {
   "cell_type": "code",
   "execution_count": 17,
   "metadata": {
    "collapsed": false
   },
   "outputs": [],
   "source": [
    "np.random.seed(12)\n",
    "x = np.random.random(120)\n",
    "y = np.random.random(120)-2\n",
    "bidx = np.random.random(120)+1\n",
    "askx = np.random.random(120)-0.5\n",
    "bidy = np.random.random(120)+2\n",
    "asky = np.random.random(120)-1.5"
   ]
  },
  {
   "cell_type": "code",
   "execution_count": 18,
   "metadata": {
    "collapsed": true
   },
   "outputs": [],
   "source": [
    "signal_exists = ['Y','N']         # exist, not exist\n",
    "signal_opens  = ['O', 'C']        # open, close\n",
    "signal_moves  = ['B', 'S']        # buy, sell"
   ]
  },
  {
   "cell_type": "code",
   "execution_count": 19,
   "metadata": {
    "collapsed": false
   },
   "outputs": [],
   "source": [
    "def generate_signal(priceA, priceB):\n",
    "    '''Find the trading signal in one window, default as 60 days'''\n",
    "    \n",
    "    # test the existence of signal\n",
    "    tfA = len(np.unique(np.isnan(priceA)))\n",
    "    tfB = len(np.unique(np.isnan(priceB)))\n",
    "            \n",
    "    if  tfA == 2 or tfB == 2:\n",
    "        signal_exist = signal_exists[0]\n",
    "    else:\n",
    "        signal_exist = signal_exists[1]\n",
    "\n",
    "        # calculate return for two stocks\n",
    "        Areturn = np.diff(priceA)/priceA[:(len(priceA)-1)]\n",
    "        Breturn = np.diff(priceB)/priceB[:(len(priceB)-1)]\n",
    "\n",
    "        # regression on return\n",
    "        beta, beta0, r_value, p_value, std_err = stats.linregress(Areturn, Breturn)\n",
    "\n",
    "        # get the residual epsilon_t\n",
    "        e_t = np.array(Breturn - beta0 - beta*Areturn)\n",
    "\n",
    "        # auxiliary process X_t\n",
    "        Xt = []\n",
    "        for i in range(len(Areturn)):\n",
    "            Xt.append(np.sum(e_t[:i+1]))\n",
    "\n",
    "        # regression on X_t\n",
    "        length = len(Xt)\n",
    "        Xt_vec = np.array(Xt)\n",
    "        b, a, r_value_x, p_value_x, std_err_x = stats.linregress(Xt_vec[1:],Xt_vec[:length-1])\n",
    "\n",
    "        # get the residual zeta_t\n",
    "        z_t = Xt_vec[:length-1] - a - b*Xt_vec[1:]\n",
    "        var_z = np.var(z_t)\n",
    "\n",
    "        # calculate the s-score\n",
    "        s_score = -a*sqrt(1-b**2)/((1-b)*sqrt(var_z)) + int(a/(1-b))*sqrt((1-b**2)/var_z)\n",
    "\n",
    "        # trading signal\n",
    "        if s_score < -1.25:\n",
    "            signal_open = signal_opens[0]\n",
    "            signal_move = signal_moves[0]\n",
    "        elif s_score > 1.25:\n",
    "            signal_open = signal_opens[0]\n",
    "            signal_move = signal_moves[1]\n",
    "        elif s_score < 0.75:\n",
    "            signal_open = signal_opens[1]\n",
    "            signal_move = signal_moves[0]\n",
    "        elif s_score > -0.5:\n",
    "            signal_open = signal_opens[1]\n",
    "            signal_move = signal_moves[1]\n",
    "        else:\n",
    "            print('warning!')\n",
    "\n",
    "        return beta,signal_exist, signal_open, signal_move"
   ]
  },
  {
   "cell_type": "code",
   "execution_count": 20,
   "metadata": {
    "collapsed": false,
    "scrolled": true
   },
   "outputs": [
    {
     "data": {
      "text/plain": [
       "(5.2076636313773747e-05, 'N', 'C', 'B')"
      ]
     },
     "execution_count": 20,
     "metadata": {},
     "output_type": "execute_result"
    }
   ],
   "source": [
    "generate_signal(x,y)"
   ]
  },
  {
   "cell_type": "code",
   "execution_count": 21,
   "metadata": {
    "collapsed": false
   },
   "outputs": [],
   "source": [
    "position_dict = {}  # static variable: 'StockA': position\n",
    "pnl = 0             # static variable\n",
    "\n",
    "def build_position(position_dict, pnl, tickerA, tickerB, priceA, priceB, BidA, AskA, BidB, AskB, window):\n",
    "    '''build position for each window\n",
    "    \n",
    "    Default parameters\n",
    "    ------------------\n",
    "    shares per trade:1000\n",
    "    transaction cost fee: 0.0005\n",
    "    '''\n",
    "    transaction_cost = 0.0005\n",
    "    \n",
    "    # calculate signals for one window\n",
    "    signals = []\n",
    "    for i in range(window):\n",
    "        current_priceA = priceA[i:i+window]\n",
    "        current_priceB = priceB[i:i+window]\n",
    "        result         = generate_signal(current_priceA, current_priceB)\n",
    "        beta           = result[0]\n",
    "        open_or_not    = result[2]\n",
    "        buy_or_sell    = result[3]\n",
    "        signals.append((beta, open_or_not, buy_or_sell))\n",
    "    \n",
    "    # for A\n",
    "    pnlA = 0\n",
    "    if tickerA in position_dict.keys():\n",
    "        for i in range(window):\n",
    "            if signals[i][1] == 'C':\n",
    "                if signals[i][2] == 'B':\n",
    "                    pnlA += (BidA[i+60]-transaction_cost)*min(position_dict[tickerA],1000*signals[i][0])\n",
    "                    position_dict[tickerA] = max(position_dict[tickerA]-1000*signals[i][0],0)\n",
    "                else:\n",
    "                    pnlA -= (AskA[i+60]+transaction_cost)*min(position_dict[tickerA],1000*signals[i][0])\n",
    "                    position_dict[tickerA] = max(position_dict[tickerA]-1000*signals[i][0],0)\n",
    "            else:\n",
    "                if signals[i][2] == 'B':\n",
    "                    pnlA += (BidA[i+60]-transaction_cost)*1000*signals[i][0]\n",
    "                    position_dict[tickerA] -= 1000*signals[i][0]\n",
    "                else:\n",
    "                    pnlA -= (AskA[i+60]+transaction_cost)*1000*signals[i][0]\n",
    "                    position_dict[tickerA] += 1000*signals[i][0]\n",
    "                    \n",
    "    else:\n",
    "        open_index = 0\n",
    "        while signals[open_index][1] is not 'O':\n",
    "            open_index += 1\n",
    "            if open_index == (window-1):\n",
    "                return position_dict, pnl\n",
    "        if signals[open_index][2] == 'B':\n",
    "            position_dict[tickerA] = -1000*signals[open_index][0]\n",
    "            pnlA += -position_dict[tickerA]*(BidA[open_index+60]-transaction_cost)\n",
    "            for i in range(open_index, window):\n",
    "                if signals[i][1] == 'C':\n",
    "                    pnlA -= (AskA[i+60]+transaction_cost)*min(position_dict[tickerA],1000*signals[i][0])\n",
    "                    position_dict[tickerA] = max(position_dict[tickerA]-1000*signals[i][0],0)\n",
    "        else:\n",
    "            position_dict[tickerA] = 1000*signals[open_index][0]\n",
    "            pnlA -= position_dict[tickerA]*(AskA[open_index+60]+transaction_cost)\n",
    "            for i in range(open_index, window):\n",
    "                if signals[i][1] == 'C':\n",
    "                    pnlA += (BidA[i+60]-transaction_cost)*min(position_dict[tickerA],1000*signals[i][0])\n",
    "                    position_dict[tickerA] = max(position_dict[tickerA]-1000*signals[i][0],0)    \n",
    "    \n",
    "    # for B\n",
    "    pnlB = 0\n",
    "    \n",
    "    if tickerB in position_dict.keys():\n",
    "        for i in range(window):\n",
    "            if signals[i][1] == 'C':\n",
    "                if signals[i][2] == 'B':\n",
    "                    pnlB -= (AskB[i+60]+transaction_cost)*min(position_dict[tickerB],1000)\n",
    "                    position_dict[tickerB] = max(position_dict[tickerB]-1000,0)\n",
    "                else:\n",
    "                    pnlB += (BidB[i+60]-transaction_cost)*min(position_dict[tickerB],1000)\n",
    "                    position_dict[tickerB] = max(position_dict[tickerB]-1000,0)\n",
    "            else:\n",
    "                if signals[i][2] == 'B':\n",
    "                    pnlB -= (AskB[i+60]+transaction_cost)*1000\n",
    "                    position_dict[tickerB] += 1000\n",
    "                else:\n",
    "                    pnlB += (BidB[i+60]-transaction_cost)*1000\n",
    "                    position_dict[tickerB] -= 1000\n",
    "                    \n",
    "    else:\n",
    "        open_index = 0\n",
    "        while signals[open_index][1] is not 'O':\n",
    "            open_index += 1\n",
    "            if open_index == (window-1):\n",
    "                return position_dict, pnl\n",
    "        if signals[open_index][2] == 'B':\n",
    "            position_dict[tickerB] = 1000\n",
    "            pnlB -= 1000*(AskB[open_index+60]+transaction_cost)\n",
    "            for i in range(open_index, window):\n",
    "                if signals[i][1] == 'C':\n",
    "                    pnlB += (BidB[i+60]-transaction_cost)*min(position_dict[tickerB],1000)\n",
    "                    position_dict[tickerB] = max(position_dict[tickerB]-1000,0)\n",
    "        else:\n",
    "            position_dict[tickerB] = -1000\n",
    "            pnlB += 1000*BidB[open_index+60]\n",
    "            for i in range(open_index, window):\n",
    "                if signals[i][1] == 'C':\n",
    "                    pnlB += -(AskB[i+60]+transaction_cost)*min(position_dict[tickerB],1000)\n",
    "                    position_dict[tickerB] = max(position_dict[tickerB]-1000,0)\n",
    "    pnl += pnlA+pnlB\n",
    "    return position_dict, pnl"
   ]
  },
  {
   "cell_type": "code",
   "execution_count": 22,
   "metadata": {
    "collapsed": false
   },
   "outputs": [
    {
     "data": {
      "text/plain": [
       "({'A': 39.126783453912878, 'B': 0}, 4033.9464123420189)"
      ]
     },
     "execution_count": 22,
     "metadata": {},
     "output_type": "execute_result"
    }
   ],
   "source": [
    "build_position(position_dict, pnl, 'A', 'B', x, y, bidx, askx, bidy,asky, 60)"
   ]
  },
  {
   "cell_type": "code",
   "execution_count": null,
   "metadata": {
    "collapsed": true
   },
   "outputs": [],
   "source": []
  }
 ],
 "metadata": {
  "kernelspec": {
   "display_name": "Python 3",
   "language": "python",
   "name": "python3"
  },
  "language_info": {
   "codemirror_mode": {
    "name": "ipython",
    "version": 3
   },
   "file_extension": ".py",
   "mimetype": "text/x-python",
   "name": "python",
   "nbconvert_exporter": "python",
   "pygments_lexer": "ipython3",
   "version": "3.6.0"
  }
 },
 "nbformat": 4,
 "nbformat_minor": 2
}
