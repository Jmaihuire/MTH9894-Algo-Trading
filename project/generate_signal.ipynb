{
 "cells": [
  {
   "cell_type": "code",
   "execution_count": 28,
   "metadata": {
    "collapsed": true
   },
   "outputs": [],
   "source": [
    "import numpy as np\n",
    "import pandas as pd\n",
    "from scipy import stats\n",
    "import matplotlib.pyplot as plt\n",
    "from math import *\n",
    "\n",
    "%matplotlib inline"
   ]
  },
  {
   "cell_type": "code",
   "execution_count": 29,
   "metadata": {
    "collapsed": false
   },
   "outputs": [],
   "source": [
    "np.random.seed(1)\n",
    "x = np.random.random(60)\n",
    "y = np.random.random(60)"
   ]
  },
  {
   "cell_type": "code",
   "execution_count": 30,
   "metadata": {
    "collapsed": true
   },
   "outputs": [],
   "source": [
    "signal_exists = ['exist','no_exist']\n",
    "signal_moves = ['BUYOPEN','SELLOPEN','CLOSESHORT','CLOSELONG']"
   ]
  },
  {
   "cell_type": "code",
   "execution_count": 31,
   "metadata": {
    "collapsed": false
   },
   "outputs": [],
   "source": [
    "def generate_signal(priceA, priceB):\n",
    "    '''Find the trading signal in one window, default as 60 days'''\n",
    "    \n",
    "    # test the existence of signal\n",
    "    tfA = len(np.unique(np.isnan(priceA)))\n",
    "    tfB = len(np.unique(np.isnan(priceB)))\n",
    "            \n",
    "    if  tfA == 2 or tfB == 2:\n",
    "        signal_exist = signal_exists[0]\n",
    "    else:\n",
    "        signal_exist = signal_exists[1]\n",
    "\n",
    "        # calculate return for two stocks\n",
    "        Areturn = np.diff(priceA)/priceA[:(len(priceA)-1)]\n",
    "        Breturn = np.diff(priceB)/priceB[:(len(priceB)-1)]\n",
    "\n",
    "        # regression on return\n",
    "        beta, beta0, r_value, p_value, std_err = stats.linregress(Areturn, Breturn)\n",
    "\n",
    "        # get the residual epsilon_t\n",
    "        e_t = np.array(Breturn - beta0 - beta*Areturn)\n",
    "\n",
    "        # auxiliary process X_t\n",
    "        Xt = []\n",
    "        for i in range(len(Areturn)):\n",
    "            Xt.append(np.sum(e_t[:i+1]))\n",
    "\n",
    "        # regression on X_t\n",
    "        length = len(Xt)\n",
    "        Xt_vec = np.array(Xt)\n",
    "        b, a, r_value_x, p_value_x, std_err_x = stats.linregress(Xt_vec[1:],Xt_vec[:length-1])\n",
    "\n",
    "        # get the residual zeta_t\n",
    "        z_t = Xt_vec[:length-1] - a - b*Xt_vec[1:]\n",
    "        var_z = np.var(z_t)\n",
    "\n",
    "        # calculate the s-score\n",
    "        s_score = -a*sqrt(1-b**2)/((1-b)*sqrt(var_z)) + int(a/(1-b))*sqrt((1-b**2)/var_z)\n",
    "\n",
    "        # trading signal\n",
    "        if s_score < -1.25:\n",
    "            signal_move = signal_moves[0]\n",
    "        elif s_score > 1.25:\n",
    "            signal_move = signal_moves[1]\n",
    "        elif s_score < 0.75:\n",
    "            signal_move = signal_moves[2]\n",
    "        elif s_score > -0.5:\n",
    "            signal_move = signal_moves[3]\n",
    "        else:\n",
    "            print('warning!')\n",
    "\n",
    "        return beta,signal_move,signal_exist"
   ]
  },
  {
   "cell_type": "code",
   "execution_count": 32,
   "metadata": {
    "collapsed": false
   },
   "outputs": [
    {
     "data": {
      "text/plain": [
       "(-0.0010757644051472652, 'CLOSESHORT', 'no_exist')"
      ]
     },
     "execution_count": 32,
     "metadata": {},
     "output_type": "execute_result"
    }
   ],
   "source": [
    "generate_signal(x,y)"
   ]
  },
  {
   "cell_type": "code",
   "execution_count": null,
   "metadata": {
    "collapsed": true
   },
   "outputs": [],
   "source": []
  }
 ],
 "metadata": {
  "kernelspec": {
   "display_name": "Python 3",
   "language": "python",
   "name": "python3"
  },
  "language_info": {
   "codemirror_mode": {
    "name": "ipython",
    "version": 3
   },
   "file_extension": ".py",
   "mimetype": "text/x-python",
   "name": "python",
   "nbconvert_exporter": "python",
   "pygments_lexer": "ipython3",
   "version": "3.6.0"
  }
 },
 "nbformat": 4,
 "nbformat_minor": 2
}
