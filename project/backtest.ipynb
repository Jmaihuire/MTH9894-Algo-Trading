{
 "cells": [
  {
   "cell_type": "code",
   "execution_count": 10,
   "metadata": {
    "collapsed": true
   },
   "outputs": [],
   "source": [
    "import numpy as np\n",
    "import pandas as pd\n",
    "from scipy import stats\n",
    "import matplotlib.pyplot as plt\n",
    "from math import *\n",
    "\n",
    "%matplotlib inline"
   ]
  },
  {
   "cell_type": "code",
   "execution_count": null,
   "metadata": {
    "collapsed": true
   },
   "outputs": [],
   "source": []
  },
  {
   "cell_type": "code",
   "execution_count": 30,
   "metadata": {
    "collapsed": false
   },
   "outputs": [],
   "source": [
    "def backtest(data):\n",
    "    len_time = len(data.rows)\n",
    "    \n",
    "    slippage = 0.0005\n",
    "    leverage = 2\n",
    "    win_len = 60\n",
    "    \n",
    "    PNL = np.zeros(len_time-60)\n",
    "    PNL[0] = 100\n",
    "    \n",
    "    positions = np.zeros(len(pairs))\n",
    "    new_positions = np.zeros(len(pairs))\n",
    "    beta_array = np.zeros(len(pairs))\n",
    "    \n",
    "    \n",
    "    trading_pairs = [pairs, positions]    \n",
    "    for i in range(len(pairs)):\n",
    "        A_data = data[data['COMNAM']==pairs[i][0]]\n",
    "        A_price = A_data['PRC'][0:win_len-1]\n",
    "        B_data = data[data['COMNAM']==pairs[i][1]]\n",
    "        B_price = B_data['PRC'][0:win_len-1]\n",
    "             \n",
    "        signal = generate_signal(A_price, B_price)\n",
    "        beta[i] = signal[0]\n",
    "        signal = signal[1]\n",
    "            \n",
    "        if signal == 'BUYOPEN':\n",
    "            positions[i] = 1\n",
    "        elif signal == 'SELLOPEN':\n",
    "            positions[i] = -1\n",
    "        else:\n",
    "            positions[i] = 0\n",
    "            \n",
    "    invest_per_pair = PNL[0] * leverage / sum(positions)\n",
    "    positions = positions * invest_per_pair\n",
    "        \n",
    "    for t in range(win_len + 1,len_time): \n",
    "        PNL_part = 0\n",
    "        for i in range(len(pairs)):\n",
    "            A_data = data[data['COMNAM']==pairs[i][0]]\n",
    "            A_bid = A_data['BID'][0:win_len]\n",
    "            A_ask = A_data['ASK'][0:win_len]\n",
    "            A_price = A_data['PRC'][0:win_len-1]\n",
    "            B_data = data[data['COMNAM']==pairs[i][1]]\n",
    "            B_bid = B_data['BID'][0:win_len]\n",
    "            B_ask = B_data['ASK'][0:win_len]\n",
    "            B_price = B_data['PRC'][0:win_len-1]\n",
    "            \n",
    "            A_prev_bid = A_bid[-2]\n",
    "            A_prev_ask = A_ask[-2]\n",
    "            B_prev_bid = B_bid[-2]\n",
    "            B_prev_ask = B_ask[-2]\n",
    "            A_current_bid = A_bid[-1]\n",
    "            A_current_ask = A_ask[-1]\n",
    "            B_current_bid = B_bid[-1]\n",
    "            B_current_ask = B_ask[-1]\n",
    "            \n",
    "            if position[i] > 0:\n",
    "                A_shares = -positions[i]/(A_prev_bid - beta[i]*B_prev_ask)\n",
    "                B_shares = -beta[i] * A_shares\n",
    "                PNL_part += A_shares * (A_current_bid - A_prev_bid) + B_shares * (B_current_ask - B_prev_ask)\n",
    "            elif position[i] < 0:\n",
    "                A_shares = -positions[i]/(A_prev_ask - beta[i]*B_prev_bid)\n",
    "                B_shares = -beta[i] * A_share\n",
    "                PNL_part += A_shares * (A_current_ask - A_prev_ask) + B_shares * (B_current_bid - B_prev_bid)\n",
    "            \n",
    "            signal = generate_signal(A_price, B_price)\n",
    "            beta[i] = signal[0]\n",
    "            signal = signal[1]\n",
    "            \n",
    "            if signal == 'BUYOPEN':\n",
    "                new_positions[i] = 1\n",
    "            elif signal == 'SELLOPEN':\n",
    "                new_positions[i] = -1\n",
    "            else:\n",
    "                new_positions[i] = 0\n",
    "        \n",
    "        invest_per_pair = PNL_array[0] * leverage / sum(new_positions)\n",
    "        new_positions = new_positions * invest_per_pair\n",
    "        PNL[t-60] = PNL_part + PNL[t-61] * (1 + r) - sum(positions) * r - sum(abs(new_positions - positions)) * slippage\n",
    "        positions = new_positions \n",
    "        \n",
    "    return PNL\n",
    "            "
   ]
  }
 ],
 "metadata": {
  "kernelspec": {
   "display_name": "Python 3",
   "language": "python",
   "name": "python3"
  },
  "language_info": {
   "codemirror_mode": {
    "name": "ipython",
    "version": 3
   },
   "file_extension": ".py",
   "mimetype": "text/x-python",
   "name": "python",
   "nbconvert_exporter": "python",
   "pygments_lexer": "ipython3",
   "version": "3.6.0"
  }
 },
 "nbformat": 4,
 "nbformat_minor": 2
}
