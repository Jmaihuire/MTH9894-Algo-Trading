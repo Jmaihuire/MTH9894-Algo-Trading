{
 "cells": [
  {
   "cell_type": "code",
   "execution_count": 10,
   "metadata": {
    "collapsed": true
   },
   "outputs": [],
   "source": [
    "import numpy as np\n",
    "import pandas as pd\n",
    "from scipy import stats\n",
    "import matplotlib.pyplot as plt\n",
    "from math import *\n",
    "\n",
    "%matplotlib inline"
   ]
  },
  {
   "cell_type": "code",
   "execution_count": 30,
   "metadata": {
    "collapsed": false
   },
   "outputs": [],
   "source": [
    "def backtest(data):\n",
    "    len_time = len(data.rows)\n",
    "    \n",
    "    slippage = 0.0005\n",
    "    leverage = 2\n",
    "    \n",
    "    PNL = np.zeros(len_time-60)\n",
    "    PNL[0] = 100\n",
    "    \n",
    "    positions = np.zeros(len(pairs))\n",
    "    new_positions = np.zeros(len(pairs))\n",
    "    beta_array = np.zeros(len(pairs))\n",
    "    \n",
    "    \n",
    "    trading_pairs = [pairs, positions]    \n",
    "    for i in range(len(pairs)):\n",
    "        priceA = data[pairs[i][0]][0:59]\n",
    "        priceB = data[pairs[i][1]][0:59]\n",
    "            \n",
    "        signal = generate_signal(priceA, priceB)\n",
    "        beta[i] = signal[0]\n",
    "        signal = signal[1]\n",
    "            \n",
    "        if signal == 'BUYOPEN':\n",
    "            positions[i] = 1\n",
    "        elif signal == 'SELLOPEN':\n",
    "            positions[i] = -1\n",
    "        else:\n",
    "            positions[i] = 0\n",
    "            \n",
    "    invest_per_pair = PNL[0] * leverage / sum(positions)\n",
    "    positions = positions * invest_per_pair\n",
    "        \n",
    "    for t in range(61,len_time):\n",
    "        PNL_part = 0\n",
    "        for i in range(len(pairs)):\n",
    "            priceA = data[pairs[i][0]][t-60:t-1]\n",
    "            priceB = data[pairs[i][1]][t-60:t-1]\n",
    "            \n",
    "            A_prev = priceA[-1]\n",
    "            B_prev = priceB[-1]\n",
    "            A_current = data[pairs[i][0]][t]\n",
    "            B_current = data[pairs[i][1]][t]\n",
    "            \n",
    "            A_shares = positions[i]/(A_prev - beta[i]*B_prev)\n",
    "            B_shares = -beta[i] * A_shares\n",
    "            \n",
    "            PNL_part += A_shares * (A_current - A_prev) + B_shares * (B_current - B_prev)\n",
    "            \n",
    "            signal = generate_signal(priceA, priceB)\n",
    "            beta[i] = signal[0]\n",
    "            signal = signal[1]\n",
    "            \n",
    "            if signal == 'BUYOPEN':\n",
    "                new_positions[i] = 1\n",
    "            elif signal == 'SELLOPEN':\n",
    "                new_positions[i] = -1\n",
    "            else:\n",
    "                new_positions[i] = 0\n",
    "        \n",
    "        invest_per_pair = PNL_array[0] * leverage / sum(new_positions)\n",
    "        new_positions = new_positions * invest_per_pair\n",
    "        PNL[t-60] = PNL_part + PNL[t-61] * (1 + r) - sum(positions) * r - sum(abs(new_positions - positions)) * slippage\n",
    "        positions = new_positions \n",
    "        \n",
    "    return PNL\n",
    "            "
   ]
  }
 ],
 "metadata": {
  "kernelspec": {
   "display_name": "Python 3",
   "language": "python",
   "name": "python3"
  },
  "language_info": {
   "codemirror_mode": {
    "name": "ipython",
    "version": 3
   },
   "file_extension": ".py",
   "mimetype": "text/x-python",
   "name": "python",
   "nbconvert_exporter": "python",
   "pygments_lexer": "ipython3",
   "version": "3.6.0"
  }
 },
 "nbformat": 4,
 "nbformat_minor": 2
}
