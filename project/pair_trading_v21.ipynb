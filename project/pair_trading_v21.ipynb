{
 "cells": [
  {
   "cell_type": "code",
   "execution_count": 1,
   "metadata": {
    "collapsed": true
   },
   "outputs": [],
   "source": [
    "import pandas as pd\n",
    "import numpy as np\n",
    "from scipy import stats\n",
    "import matplotlib.pyplot as plt\n",
    "from math import *\n",
    "from datetime import datetime\n",
    "from datetime import timedelta\n",
    "import statsmodels.tsa.stattools as stat\n",
    "\n",
    "%matplotlib inline"
   ]
  },
  {
   "cell_type": "code",
   "execution_count": 2,
   "metadata": {
    "collapsed": false
   },
   "outputs": [
    {
     "name": "stderr",
     "output_type": "stream",
     "text": [
      "/home/xinlu/anaconda3/lib/python3.6/site-packages/IPython/core/interactiveshell.py:2717: DtypeWarning: Columns (13,17) have mixed types. Specify dtype option on import or set low_memory=False.\n",
      "  interactivity=interactivity, compiler=compiler, result=result)\n"
     ]
    }
   ],
   "source": [
    "with open ('sp_500_daily_return.csv') as return_data:\n",
    "    global_sp_ret = pd.read_csv(return_data,engine='c')\n",
    "    date_in_data=list(global_sp_ret.ix[:,0])"
   ]
  },
  {
   "cell_type": "code",
   "execution_count": 3,
   "metadata": {
    "collapsed": true
   },
   "outputs": [],
   "source": [
    "def date_int_to_string(date_int):\n",
    "    year = int(date_int / 10000)\n",
    "    month = int((date_int - 10000 * year)/100)\n",
    "    day = date_int - 10000*year - 100*month\n",
    "    \n",
    "    year_str = str(year)\n",
    "    \n",
    "    if month < 10:\n",
    "        month_str = '0' + str(month)\n",
    "    else:\n",
    "        month_str = str(month)\n",
    "    \n",
    "    if day < 10:\n",
    "        day_str = '0' + str(day)\n",
    "    else:\n",
    "        day_str = str(day)\n",
    "    \n",
    "    return year_str + '-' + month_str + '-' + day_str"
   ]
  },
  {
   "cell_type": "code",
   "execution_count": 4,
   "metadata": {
    "collapsed": false
   },
   "outputs": [
    {
     "ename": "NameError",
     "evalue": "name 'sp500_index' is not defined",
     "output_type": "error",
     "traceback": [
      "\u001b[0;31m---------------------------------------------------------------------------\u001b[0m",
      "\u001b[0;31mNameError\u001b[0m                                 Traceback (most recent call last)",
      "\u001b[0;32m<ipython-input-4-a92dc63becf5>\u001b[0m in \u001b[0;36m<module>\u001b[0;34m()\u001b[0m\n\u001b[1;32m      1\u001b[0m \u001b[0mdate_str\u001b[0m \u001b[0;34m=\u001b[0m \u001b[0mdate_int_to_string\u001b[0m\u001b[0;34m(\u001b[0m\u001b[0;36m20100702\u001b[0m\u001b[0;34m)\u001b[0m\u001b[0;34m\u001b[0m\u001b[0m\n\u001b[0;32m----> 2\u001b[0;31m \u001b[0msp500_index\u001b[0m\u001b[0;34m[\u001b[0m\u001b[0msp500_index\u001b[0m\u001b[0;34m[\u001b[0m\u001b[0;34m'Date'\u001b[0m\u001b[0;34m]\u001b[0m \u001b[0;34m==\u001b[0m \u001b[0mdate_str\u001b[0m\u001b[0;34m]\u001b[0m\u001b[0;34m.\u001b[0m\u001b[0mindex\u001b[0m\u001b[0;34m.\u001b[0m\u001b[0mtolist\u001b[0m\u001b[0;34m(\u001b[0m\u001b[0;34m)\u001b[0m\u001b[0;34m\u001b[0m\u001b[0m\n\u001b[0m",
      "\u001b[0;31mNameError\u001b[0m: name 'sp500_index' is not defined"
     ]
    }
   ],
   "source": [
    "date_str = date_int_to_string(20100702)\n",
    "sp500_index[sp500_index['Date'] == date_str].index.tolist()"
   ]
  },
  {
   "cell_type": "code",
   "execution_count": 5,
   "metadata": {
    "collapsed": true
   },
   "outputs": [],
   "source": [
    "def data_process(start,period):\n",
    "    with open ('sp_500_daily_prices.csv') as data:\n",
    "        sp500=pd.read_csv(data,usecols=['date','COMNAM','PRC','RET','ASK','BID'],engine='c')\n",
    "    date=sorted(list(set(sp500['date'])))\n",
    "    try:\n",
    "        date.index(start)\n",
    "    except:\n",
    "        raise ((\"Oops! The start date is not contained in our datesets.  Try again...\"))\n",
    "    try:\n",
    "        train_start=date[-9*period+date.index(start)]\n",
    "        date[date.index(start)+period]\n",
    "    except:\n",
    "        raise (\"Oops! The period is too long.  Try again...\")\n",
    "    sp_recent=sp500[sp500['date']>=train_start]\n",
    "    sp_recent=sp_recent[sp_recent['date']<=date[date.index(start)+period]]\n",
    "    \n",
    "    with open ('sp_500_daily_return.csv') as return_data:\n",
    "        sp_ret=pd.read_csv(return_data,index_col=0,engine='c')\n",
    "    sp_ret=sp_ret.loc[date[-9*period+date.index(start)]:date[period+date.index(start)]]\n",
    "    return sp_recent,sp_ret,date"
   ]
  },
  {
   "cell_type": "code",
   "execution_count": 6,
   "metadata": {
    "collapsed": true
   },
   "outputs": [],
   "source": [
    "def filter_pair(pvalue_key,num):\n",
    "    try:\n",
    "        pvalue_key[num-1]\n",
    "    except:\n",
    "        raise(\"Oops! Too large num\")\n",
    "    selected_pair=[]\n",
    "    stock_list=[]\n",
    "    i=0\n",
    "    while i<num:\n",
    "        for pair in pvalue_key:\n",
    "            if pair[1][0] not in stock_list and pair[1][1] not in stock_list:\n",
    "                selected_pair+=[pair[1]]\n",
    "                stock_list+=[pair[1][0]]\n",
    "                stock_list+=[pair[1][1]]\n",
    "                i+=1\n",
    "    \n",
    "    return selected_pair"
   ]
  },
  {
   "cell_type": "code",
   "execution_count": 7,
   "metadata": {
    "collapsed": true
   },
   "outputs": [],
   "source": [
    "def find_pair(start,period,num):\n",
    "    sp_recent,sp_ret,date=data_process(start,period)\n",
    "    error_return=['E','D','C','B','A','']\n",
    "    sp_ret=sp_ret.applymap(lambda x:np.float64(0.0) if x in error_return else np.float64(x))\n",
    "    sp_pca=np.array(sp_ret)\n",
    "    #print(sp_pca)\n",
    "    cov_company=np.cov(sp_pca)\n",
    "    cov_company[np.isnan(cov_company)] = 0.0\n",
    "    eigen_val,eigen_vector=np.linalg.eig(cov_company)\n",
    "    eigen_vector_max=list(zip(eigen_vector[np.argmax(eigen_val)],sp_ret.columns))\n",
    "    eigen_vector_max.sort(key=lambda x:x[0],reverse=True)\n",
    "    eigen_vector_max=list(zip(*eigen_vector_max))\n",
    "    data=sp_ret[list(eigen_vector_max[1][0:20])]\n",
    "    pvalue_key=find_cointegrated_pairs(data)\n",
    "    selected_pair=filter_pair(pvalue_key,num)\n",
    "    data_inuse=sp_recent[sp_recent['date']>=date[-period+date.index(start)]]\n",
    "    data_inuse=data_inuse[data_inuse['date']<date[date.index(start)+period]]\n",
    "    data_inuse.fillna(method='ffill')\n",
    "    \n",
    "    companies=set(data_inuse['COMNAM'])\n",
    "    company_data={}\n",
    "    for company in companies:\n",
    "        company_data[company]=data_inuse[data_inuse['COMNAM']==company]\n",
    "    #print('find_pair_done')\n",
    "    return company_data,selected_pair"
   ]
  },
  {
   "cell_type": "code",
   "execution_count": 8,
   "metadata": {
    "collapsed": true
   },
   "outputs": [],
   "source": [
    "def find_cointegrated_pairs(data):\n",
    "    n = len(data.columns)\n",
    "    #score_matrix = np.zeros((n, n))\n",
    "    pvalue_key=[]\n",
    "    keys = list(data.columns)\n",
    "    #pairs = []\n",
    "    for i in range(n):\n",
    "        for j in range(i+1, n):\n",
    "            S1 = np.array(data[keys[i]])\n",
    "            S2 = np.array(data[keys[j]])\n",
    "            result = stat.coint(S1, S2)\n",
    "            #score = result[0]\n",
    "            pvalue = result[1]\n",
    "            pvalue_key+=[[pvalue,(keys[i],keys[j])]]\n",
    "            #pairs.append((keys[i], keys[j]))\n",
    "    pvalue_key=sorted(pvalue_key,key=lambda x:x[0])\n",
    "    #print('find_cointegrated_pairs_done')\n",
    "    return pvalue_key"
   ]
  },
  {
   "cell_type": "code",
   "execution_count": 9,
   "metadata": {
    "collapsed": true
   },
   "outputs": [],
   "source": [
    "start=20131001\n",
    "end=20150101\n",
    "period=60\n",
    "num_pair=10"
   ]
  },
  {
   "cell_type": "code",
   "execution_count": 10,
   "metadata": {
    "collapsed": false,
    "scrolled": true
   },
   "outputs": [
    {
     "name": "stderr",
     "output_type": "stream",
     "text": [
      "/home/xinlu/anaconda3/lib/python3.6/site-packages/IPython/core/interactiveshell.py:2881: DtypeWarning: Columns (18) have mixed types. Specify dtype option on import or set low_memory=False.\n",
      "  exec(code_obj, self.user_global_ns, self.user_ns)\n",
      "/home/xinlu/anaconda3/lib/python3.6/site-packages/IPython/core/interactiveshell.py:2881: DtypeWarning: Columns (13,17) have mixed types. Specify dtype option on import or set low_memory=False.\n",
      "  exec(code_obj, self.user_global_ns, self.user_ns)\n"
     ]
    },
    {
     "ename": "KeyboardInterrupt",
     "evalue": "",
     "output_type": "error",
     "traceback": [
      "\u001b[0;31m---------------------------------------------------------------------------\u001b[0m",
      "\u001b[0;31mKeyboardInterrupt\u001b[0m                         Traceback (most recent call last)",
      "\u001b[0;32m<ipython-input-10-a8e3cc2fdc93>\u001b[0m in \u001b[0;36m<module>\u001b[0;34m()\u001b[0m\n\u001b[0;32m----> 1\u001b[0;31m \u001b[0mdata\u001b[0m\u001b[0;34m,\u001b[0m\u001b[0mpairs\u001b[0m\u001b[0;34m=\u001b[0m\u001b[0mfind_pair\u001b[0m\u001b[0;34m(\u001b[0m\u001b[0mstart\u001b[0m\u001b[0;34m,\u001b[0m\u001b[0mperiod\u001b[0m\u001b[0;34m,\u001b[0m\u001b[0mnum_pair\u001b[0m\u001b[0;34m)\u001b[0m\u001b[0;34m\u001b[0m\u001b[0m\n\u001b[0m",
      "\u001b[0;32m<ipython-input-7-21d085a392f2>\u001b[0m in \u001b[0;36mfind_pair\u001b[0;34m(start, period, num)\u001b[0m\n\u001b[1;32m     21\u001b[0m     \u001b[0mcompany_data\u001b[0m\u001b[0;34m=\u001b[0m\u001b[0;34m{\u001b[0m\u001b[0;34m}\u001b[0m\u001b[0;34m\u001b[0m\u001b[0m\n\u001b[1;32m     22\u001b[0m     \u001b[0;32mfor\u001b[0m \u001b[0mcompany\u001b[0m \u001b[0;32min\u001b[0m \u001b[0mcompanies\u001b[0m\u001b[0;34m:\u001b[0m\u001b[0;34m\u001b[0m\u001b[0m\n\u001b[0;32m---> 23\u001b[0;31m         \u001b[0mcompany_data\u001b[0m\u001b[0;34m[\u001b[0m\u001b[0mcompany\u001b[0m\u001b[0;34m]\u001b[0m\u001b[0;34m=\u001b[0m\u001b[0mdata_inuse\u001b[0m\u001b[0;34m[\u001b[0m\u001b[0mdata_inuse\u001b[0m\u001b[0;34m[\u001b[0m\u001b[0;34m'COMNAM'\u001b[0m\u001b[0;34m]\u001b[0m\u001b[0;34m==\u001b[0m\u001b[0mcompany\u001b[0m\u001b[0;34m]\u001b[0m\u001b[0;34m\u001b[0m\u001b[0m\n\u001b[0m\u001b[1;32m     24\u001b[0m     \u001b[0;31m#print('find_pair_done')\u001b[0m\u001b[0;34m\u001b[0m\u001b[0;34m\u001b[0m\u001b[0m\n\u001b[1;32m     25\u001b[0m     \u001b[0;32mreturn\u001b[0m \u001b[0mcompany_data\u001b[0m\u001b[0;34m,\u001b[0m\u001b[0mselected_pair\u001b[0m\u001b[0;34m\u001b[0m\u001b[0m\n",
      "\u001b[0;32m/home/xinlu/anaconda3/lib/python3.6/site-packages/pandas/core/ops.py\u001b[0m in \u001b[0;36mwrapper\u001b[0;34m(self, other, axis)\u001b[0m\n\u001b[1;32m    853\u001b[0m \u001b[0;34m\u001b[0m\u001b[0m\n\u001b[1;32m    854\u001b[0m             \u001b[0;32mwith\u001b[0m \u001b[0mnp\u001b[0m\u001b[0;34m.\u001b[0m\u001b[0merrstate\u001b[0m\u001b[0;34m(\u001b[0m\u001b[0mall\u001b[0m\u001b[0;34m=\u001b[0m\u001b[0;34m'ignore'\u001b[0m\u001b[0;34m)\u001b[0m\u001b[0;34m:\u001b[0m\u001b[0;34m\u001b[0m\u001b[0m\n\u001b[0;32m--> 855\u001b[0;31m                 \u001b[0mres\u001b[0m \u001b[0;34m=\u001b[0m \u001b[0mna_op\u001b[0m\u001b[0;34m(\u001b[0m\u001b[0mvalues\u001b[0m\u001b[0;34m,\u001b[0m \u001b[0mother\u001b[0m\u001b[0;34m)\u001b[0m\u001b[0;34m\u001b[0m\u001b[0m\n\u001b[0m\u001b[1;32m    856\u001b[0m             \u001b[0;32mif\u001b[0m \u001b[0misscalar\u001b[0m\u001b[0;34m(\u001b[0m\u001b[0mres\u001b[0m\u001b[0;34m)\u001b[0m\u001b[0;34m:\u001b[0m\u001b[0;34m\u001b[0m\u001b[0m\n\u001b[1;32m    857\u001b[0m                 raise TypeError('Could not compare %s type with Series' %\n",
      "\u001b[0;32m/home/xinlu/anaconda3/lib/python3.6/site-packages/pandas/core/ops.py\u001b[0m in \u001b[0;36mna_op\u001b[0;34m(x, y)\u001b[0m\n\u001b[1;32m    757\u001b[0m \u001b[0;34m\u001b[0m\u001b[0m\n\u001b[1;32m    758\u001b[0m         \u001b[0;32mif\u001b[0m \u001b[0mis_object_dtype\u001b[0m\u001b[0;34m(\u001b[0m\u001b[0mx\u001b[0m\u001b[0;34m.\u001b[0m\u001b[0mdtype\u001b[0m\u001b[0;34m)\u001b[0m\u001b[0;34m:\u001b[0m\u001b[0;34m\u001b[0m\u001b[0m\n\u001b[0;32m--> 759\u001b[0;31m             \u001b[0mresult\u001b[0m \u001b[0;34m=\u001b[0m \u001b[0m_comp_method_OBJECT_ARRAY\u001b[0m\u001b[0;34m(\u001b[0m\u001b[0mop\u001b[0m\u001b[0;34m,\u001b[0m \u001b[0mx\u001b[0m\u001b[0;34m,\u001b[0m \u001b[0my\u001b[0m\u001b[0;34m)\u001b[0m\u001b[0;34m\u001b[0m\u001b[0m\n\u001b[0m\u001b[1;32m    760\u001b[0m         \u001b[0;32melse\u001b[0m\u001b[0;34m:\u001b[0m\u001b[0;34m\u001b[0m\u001b[0m\n\u001b[1;32m    761\u001b[0m \u001b[0;34m\u001b[0m\u001b[0m\n",
      "\u001b[0;32m/home/xinlu/anaconda3/lib/python3.6/site-packages/pandas/core/ops.py\u001b[0m in \u001b[0;36m_comp_method_OBJECT_ARRAY\u001b[0;34m(op, x, y)\u001b[0m\n\u001b[1;32m    737\u001b[0m         \u001b[0mresult\u001b[0m \u001b[0;34m=\u001b[0m \u001b[0mlib\u001b[0m\u001b[0;34m.\u001b[0m\u001b[0mvec_compare\u001b[0m\u001b[0;34m(\u001b[0m\u001b[0mx\u001b[0m\u001b[0;34m,\u001b[0m \u001b[0my\u001b[0m\u001b[0;34m,\u001b[0m \u001b[0mop\u001b[0m\u001b[0;34m)\u001b[0m\u001b[0;34m\u001b[0m\u001b[0m\n\u001b[1;32m    738\u001b[0m     \u001b[0;32melse\u001b[0m\u001b[0;34m:\u001b[0m\u001b[0;34m\u001b[0m\u001b[0m\n\u001b[0;32m--> 739\u001b[0;31m         \u001b[0mresult\u001b[0m \u001b[0;34m=\u001b[0m \u001b[0mlib\u001b[0m\u001b[0;34m.\u001b[0m\u001b[0mscalar_compare\u001b[0m\u001b[0;34m(\u001b[0m\u001b[0mx\u001b[0m\u001b[0;34m,\u001b[0m \u001b[0my\u001b[0m\u001b[0;34m,\u001b[0m \u001b[0mop\u001b[0m\u001b[0;34m)\u001b[0m\u001b[0;34m\u001b[0m\u001b[0m\n\u001b[0m\u001b[1;32m    740\u001b[0m     \u001b[0;32mreturn\u001b[0m \u001b[0mresult\u001b[0m\u001b[0;34m\u001b[0m\u001b[0m\n\u001b[1;32m    741\u001b[0m \u001b[0;34m\u001b[0m\u001b[0m\n",
      "\u001b[0;31mKeyboardInterrupt\u001b[0m: "
     ]
    }
   ],
   "source": [
    "data,pairs=find_pair(start,period,num_pair)"
   ]
  },
  {
   "cell_type": "code",
   "execution_count": 11,
   "metadata": {
    "collapsed": true
   },
   "outputs": [],
   "source": [
    "#signal_opens  = ['O', 'C', 'DONT']        # open, close\n",
    "#signal_moves  = ['B', 'S', 'DONT']        # buy, sell\n",
    "signals = ['OL','OS','C','CS','CL','DONT']"
   ]
  },
  {
   "cell_type": "code",
   "execution_count": 12,
   "metadata": {
    "collapsed": false
   },
   "outputs": [],
   "source": [
    "def generate_signal(priceA, priceB, sa, sb, sc, sd):\n",
    "    '''Find the trading signal in one window, default as 60 days'''\n",
    "    \n",
    "    assert len(priceA)==len(priceB),\"Wrong data extraction!\"\n",
    "    \n",
    "    Areturn = np.diff(priceA)/priceA[:(len(priceA)-1)]\n",
    "    Breturn = np.diff(priceB)/priceB[:(len(priceB)-1)]\n",
    "    \n",
    "    # regression on return\n",
    "    beta, beta0, r_value, p_value, std_err = stats.linregress(Areturn, Breturn)\n",
    "\n",
    "    # get the residual epsilon_t\n",
    "    e_t = np.array(Breturn - beta0 - beta*Areturn)\n",
    "\n",
    "    Xt=[np.sum(e_t[:i+1]) for i in range(len(Areturn))]\n",
    "\n",
    "    # regression on X_t\n",
    "    length = len(Xt)\n",
    "    Xt_vec = np.array(Xt)\n",
    "    b, a, r_value_x, p_value_x, std_err_x = stats.linregress(Xt_vec[:length-1],Xt_vec[1:])\n",
    "#    print('epoch:',b)\n",
    "\n",
    "    # get the residual zeta_t\n",
    "    z_t = Xt_vec[1:] - a - b*Xt_vec[:length-1]\n",
    "    var_z = np.var(z_t)\n",
    "\n",
    "    if abs(b) >= 1:\n",
    "        s_score = 100000\n",
    "    else:\n",
    "        s_score = -a*sqrt(1-b**2)/((1-b)*sqrt(var_z)) + int(a/(1-b))*sqrt((1-b**2)/var_z)\n",
    "    \n",
    "    # trading signal\n",
    "    if s_score   < sa:                         # open long\n",
    "        signal = signals[0]\n",
    "    elif (s_score > sd) & (s_score < 100000):  # open short\n",
    "        signal = signals[1]\n",
    "    elif (s_score > sb) & (s_score <sc):       # close\n",
    "        signal = signals[2]    \n",
    "    elif (s_score > sa) & (s_score < sb):      # close short\n",
    "        signal = signals[3]    \n",
    "    elif (s_score > sc) & (s_score < sd):      # close long\n",
    "        signal = signals[4]\n",
    "    else:                                      # DONT\n",
    "        signal = signals[5]\n",
    "        \n",
    "    return beta,signal,s_score"
   ]
  },
  {
   "cell_type": "code",
   "execution_count": 13,
   "metadata": {
    "collapsed": false
   },
   "outputs": [
    {
     "data": {
      "text/plain": [
       "-1"
      ]
     },
     "execution_count": 13,
     "metadata": {},
     "output_type": "execute_result"
    }
   ],
   "source": [
    "np.sign(-4)"
   ]
  },
  {
   "cell_type": "code",
   "execution_count": 15,
   "metadata": {
    "collapsed": false
   },
   "outputs": [],
   "source": [
    "position_long = {}  # static variable: 'StockA': position\n",
    "position_short = {}\n",
    "cash = 50000        # static variable\n",
    "\n",
    "\n",
    "def build_position(position_long,position_short,cash, pairs, data, window, sa,sb,sc,sd):\n",
    "    '''build position for each window\n",
    "    \n",
    "    Default parameters\n",
    "    ------------------\n",
    "    shares per trade:1000\n",
    "    transaction cost fee: 0.0005\n",
    "    '''\n",
    "    # borrow cost of stock = 0.05 of short position\n",
    "    borrow_cost = 0.05\n",
    "    transaction_cost = 0.003\n",
    "    PNL = []\n",
    "    portfolio_value = []\n",
    "    \n",
    "    stocks_in_pair=[]\n",
    "    for pair in pairs:\n",
    "        stocks_in_pair+=[pair[0]]\n",
    "        stocks_in_pair+=[pair[1]]\n",
    "    \n",
    "    for ticker in position_long.keys():\n",
    "        if ticker not in stocks_in_pair:\n",
    "            if position_long[ticker] >0:\n",
    "                cash += (data[ticker]['BID'] - transaction_cost)*position_long[ticker]\n",
    "            else:\n",
    "                cash += (data[ticker]['ASK'] + transaction_cost)*position_long[ticker]\n",
    "            position_long[ticker]=0\n",
    "    for ticker in position_short.keys():\n",
    "        if ticker not in stocks_in_pair:\n",
    "            if position_short[ticker] <0:\n",
    "                cash -= (data[ticker]['ASK'] + transaction_cost)*abs(position_short[ticker])\n",
    "            else:\n",
    "                cash += (data[ticker]['BID'] - transaction_cost)*position_short[ticker]\n",
    "            position_short[ticker]=0\n",
    "    \n",
    "    for i in range(window):\n",
    "        cash_old = cash\n",
    "        stock_value = 0\n",
    "#        print('day',i)\n",
    "        for pair in pairs:\n",
    "            priceA        = data[pair[0]]['PRC'].values[i:i+window]\n",
    "            priceB        = data[pair[1]]['PRC'].values[i:i+window]\n",
    "            tickerA        = pair[0]\n",
    "            tickerB        = pair[1]\n",
    "            BidA           = data[pair[0]]['BID'].values\n",
    "            AskA           = data[pair[0]]['ASK'].values\n",
    "            BidB           = data[pair[1]]['BID'].values\n",
    "            AskB           = data[pair[1]]['ASK'].values\n",
    "            result         = generate_signal(priceA, priceB,sa,sb,sc,sd)\n",
    "            beta           = result[0]\n",
    "            signal         = result[1]\n",
    "            s_score        = result[2]\n",
    "#            print(signal, s_score)\n",
    "            \n",
    "            if signal=='OL':\n",
    "                position_long[tickerA]=position_long.get(tickerA,0)-int((cash/len(pairs))/AskB[i+window]*beta)\n",
    "#                print(cash)\n",
    "                position_long[tickerB]=position_long.get(tickerB,0)+int((cash/len(pairs))/AskB[i+window])\n",
    "                cash += (BidA[i+window]-transaction_cost)*int((cash/len(pairs))/AskB[i+window]*beta)\n",
    "                cash-=(AskB[i+window]+transaction_cost)*int((cash/len(pairs))/AskB[i+window])\n",
    "            elif signal=='OS':\n",
    "                position_short[tickerA]=position_short.get(tickerA,0)+int((cash/len(pairs))/AskB[i+window]*beta)\n",
    "                position_short[tickerB]=position_short.get(tickerB,0)-int((cash/len(pairs))/AskB[i+window])\n",
    "                cash -= (AskA[i+window]+transaction_cost)*int((cash/len(pairs))/BidB[i+window]*beta)\n",
    "                cash +=(BidB[i+window]-transaction_cost)*int((cash/len(pairs))/BidB[i+window])\n",
    "            elif signal=='C':\n",
    "                if tickerA in position_long.keys():\n",
    "                    cash+=(BidA[i+window]-transaction_cost)*position_long[tickerA]\n",
    "                    position_long[tickerA]=0\n",
    "                if tickerA in position_short.keys():\n",
    "                    cash-=(AskA[i+window]+transaction_cost)*position_short[tickerA]\n",
    "                    position_short[tickerA]=0\n",
    "                if tickerB in position_long.keys():\n",
    "                    cash+=(BidB[i+window]-transaction_cost)*position_long[tickerB]\n",
    "                    position_long[tickerB]=0\n",
    "                if tickerB in position_short.keys():\n",
    "                    cash-=(AskB[i+window]+transaction_cost)*position_short[tickerB]\n",
    "                    position_short[tickerB]=0\n",
    "            elif signal=='CL':\n",
    "                if tickerA in position_long.keys():\n",
    "                    cash-=(BidA[i+window]-transaction_cost)*abs(position_long[tickerA])\n",
    "                    position_long[tickerA]=0\n",
    "                if tickerB in position_long.keys():\n",
    "                    cash+=(BidB[i+window]-transaction_cost)*abs(position_long[tickerB])\n",
    "                    position_long[tickerB]=0\n",
    "            elif signal=='CS':\n",
    "                if tickerA in position_short.keys():\n",
    "                    cash+=(AskA[i+window]+transaction_cost)*abs(position_short[tickerA])\n",
    "                    position_short[tickerA]=0\n",
    "                if tickerB in position_short.keys():\n",
    "                    cash-=(AskB[i+window]+transaction_cost)*abs(position_short[tickerB])\n",
    "                    position_short[tickerB]=0 \n",
    "        \n",
    "            \n",
    "            stock_value += position_long.get(tickerA,0)*priceA[-1] + \\\n",
    "                           position_long.get(tickerB,0)*priceB[-1] +\\\n",
    "                           position_short.get(tickerA,0)*priceA[-1] + \\\n",
    "                           position_short.get(tickerB,0)*priceB[-1] \n",
    "#        print('position_long',position_long)\n",
    "#        print('position_short',position_short)\n",
    "        PNL.append(cash - cash_old)\n",
    "        portfolio_value.append(cash + stock_value)\n",
    "    return position_long, position_short, cash, PNL, portfolio_value"
   ]
  },
  {
   "cell_type": "code",
   "execution_count": 16,
   "metadata": {
    "collapsed": false,
    "scrolled": false
   },
   "outputs": [
    {
     "ename": "NameError",
     "evalue": "name 'pairs' is not defined",
     "output_type": "error",
     "traceback": [
      "\u001b[0;31m---------------------------------------------------------------------------\u001b[0m",
      "\u001b[0;31mNameError\u001b[0m                                 Traceback (most recent call last)",
      "\u001b[0;32m<ipython-input-16-9b11c6a01975>\u001b[0m in \u001b[0;36m<module>\u001b[0;34m()\u001b[0m\n\u001b[0;32m----> 1\u001b[0;31m \u001b[0mbuild_position\u001b[0m\u001b[1;33m(\u001b[0m\u001b[0mposition_long\u001b[0m\u001b[1;33m,\u001b[0m \u001b[0mposition_short\u001b[0m\u001b[1;33m,\u001b[0m \u001b[0mcash\u001b[0m\u001b[1;33m,\u001b[0m \u001b[0mpairs\u001b[0m\u001b[1;33m,\u001b[0m \u001b[0mdata\u001b[0m\u001b[1;33m,\u001b[0m \u001b[1;36m60\u001b[0m\u001b[1;33m,\u001b[0m \u001b[1;33m-\u001b[0m\u001b[1;36m2\u001b[0m\u001b[1;33m,\u001b[0m\u001b[1;33m-\u001b[0m\u001b[1;36m0.3\u001b[0m\u001b[1;33m,\u001b[0m\u001b[1;36m0.3\u001b[0m\u001b[1;33m,\u001b[0m\u001b[1;36m2\u001b[0m\u001b[1;33m)\u001b[0m\u001b[1;33m\u001b[0m\u001b[0m\n\u001b[0m",
      "\u001b[0;31mNameError\u001b[0m: name 'pairs' is not defined"
     ]
    }
   ],
   "source": [
    "build_position(position_long, position_short, cash, pairs, data, 60, -2,-0.3,0.3,2)"
   ]
  },
  {
   "cell_type": "code",
   "execution_count": 21,
   "metadata": {
    "collapsed": false
   },
   "outputs": [
    {
     "data": {
      "text/plain": [
       "[<matplotlib.lines.Line2D at 0x7fcdfd9e1e10>]"
      ]
     },
     "execution_count": 21,
     "metadata": {},
     "output_type": "execute_result"
    },
    {
     "data": {
      "image/png": "[encoded data removed]",
      "text/plain": [
       "<matplotlib.figure.Figure at 0x7fcdfd7d3630>"
      ]
     },
     "metadata": {},
     "output_type": "display_data"
    }
   ],
   "source": [
    "result = build_position(position_dict, cash, pairs, data, 60, -1.0,1.0,0.6,-0.6)\n",
    "pnl = result[2]\n",
    "portfolio_value = result[3]\n",
    "plt.plot(portfolio_value)\n",
    "plt.plot(pnl)"
   ]
  },
  {
   "cell_type": "code",
   "execution_count": 17,
   "metadata": {
    "collapsed": true
   },
   "outputs": [],
   "source": [
    "def add_date(start_date, add_days):\n",
    "    year = int(start_date/10000)\n",
    "    month = int(start_date/100)- year*100\n",
    "    day = start - year*10000 - month*100\n",
    "    \n",
    "    date1 = datetime(year, month, day)\n",
    "    date2 = date1 + timedelta(days=add_days)\n",
    "    \n",
    "    new_date  = date2.year * 10000 + date2.month * 100 + date2.day\n",
    "    return new_date\n",
    "    "
   ]
  },
  {
   "cell_type": "code",
   "execution_count": 72,
   "metadata": {
    "collapsed": false
   },
   "outputs": [],
   "source": [
    "def backtest(start_date, end_date, pair_num):\n",
    "    position_long = {}  # static variable: 'StockA': position\n",
    "    position_short = {}\n",
    "    \n",
    "    with open ('SP500TR.csv') as return_data:\n",
    "        sp500_index = pd.read_csv(return_data,engine='c')\n",
    "        sp500_index = sp500_index[['Date','Adj Close']]\n",
    "\n",
    "    with open ('TNX.csv') as return_data:\n",
    "        rf_rate = pd.read_csv(return_data,engine='c')\n",
    "    \n",
    "    rf_rate = rf_rate[['Date','Adj Close']]\n",
    "    win_len = 60\n",
    "    start_date_index  = date_in_data.index(start_date)\n",
    "    end_date_index = date_in_data.index(end_date)\n",
    "    win_num = int((end_date_index - start_date_index + 1)/win_len)\n",
    "    pair_start_date = date_in_data[start_date_index -win_len * 9]\n",
    "    \n",
    "    date_str = date_int_to_string(start_date)\n",
    "    sp500_start_index = sp500_index[sp500_index['Date'] == date_str].index.tolist()[0]\n",
    "    \n",
    "    sp500_index = sp500_index['Adj Close'][sp500_start_index : sp500_start_index + end_date_index - start_date_index + 1]\n",
    "    sp500_return = np.diff(sp500_index) / sp500_index[:(len(sp500_index)-1)]\n",
    "    \n",
    "    rf_rate_start_index = rf_rate[rf_rate['Date'] == date_str].index.tolist()[0]\n",
    "    rf_rate_start = float(rf_rate['Adj Close'][rf_rate_start_index])\n",
    "    \n",
    "    cash = 50000\n",
    "    \n",
    "    #pair_end_date = add_date(start_date, win_len - 1)\n",
    "    \n",
    "    portfolio_value_list = []\n",
    "    \n",
    "    for i in range(win_num):\n",
    "        print(\"start: \", pair_start_date)\n",
    "        data, pairs = find_pair(pair_start_date, win_len, pair_num)\n",
    "        position_long, position_short, cash, PNL, portfolio_value = build_position(position_long, position_short, cash, pairs, data, win_len, -1.25,-0.5,0.5,1.25)\n",
    "        print(portfolio_value)\n",
    "        print(position_long)\n",
    "        print(position_short)\n",
    "        portfolio_value_list = portfolio_value_list + list(portfolio_value)\n",
    "        start_date_index += win_len\n",
    "        pair_start_date = date_in_data[start_date_index - win_len * 9]\n",
    "        print(cash)\n",
    "    \n",
    "    last_win_len = (end_date_index - start_date_index + 1) % win_len\n",
    "    \n",
    "    print(\"start: \", pair_start_date)\n",
    "    data, pairs = find_pair(pair_start_date, last_win_len, pair_num)\n",
    "    position_long, position_short, cash, PNL, portfolio_value = build_position(position_long, position_short, cash, pairs, data, last_win_len,  -1.25,-0.5,0.5,1.25)\n",
    "    portfolio_value_list = portfolio_value_list + list(portfolio_value)\n",
    "    print(cash)\n",
    "    \n",
    "\n",
    "    \n",
    "\n",
    "    #rf_rate_start = 0.03\n",
    "    \n",
    "    \n",
    "    return_list = np.diff(portfolio_value_list)/portfolio_value_list[:(len(portfolio_value_list)-1)]\n",
    "    print(\"return list length \",len(return_list))\n",
    "    \n",
    "    sharp_ratio = (np.mean(return_list) - rf_rate_start) / sqrt(np.var(return_list))\n",
    "                   \n",
    "    max_here = pd.expanding_max(return_list)\n",
    "    dd2here = return_list - max_here\n",
    "    max_drawdown = dd2here.min()\n",
    "    \n",
    "    if return_list[0] == inf or return_list[0] == -inf:\n",
    "        return_list[0] = 0\n",
    "        \n",
    "    for i in range(1, len(return_list)):\n",
    "        if return_list[i] == inf or return_list[i] == -inf:\n",
    "            return_list[i] = return_list[i-1]\n",
    "    \n",
    "    print(len(return_list))\n",
    "    print(len(sp500_return))        \n",
    "    beta = np.cov(return_list, sp500_return)[1,0] / np.var(sp500_return)\n",
    "    \n",
    "    return return_list, sp500_return, sharp_ratio, max_drawdown, beta\n",
    "      "
   ]
  },
  {
   "cell_type": "code",
   "execution_count": null,
   "metadata": {
    "collapsed": false
   },
   "outputs": [
    {
     "name": "stdout",
     "output_type": "stream",
     "text": [
      "start:  20070716\n"
     ]
    },
    {
     "name": "stderr",
     "output_type": "stream",
     "text": [
      "C:\\ProgramData\\Anaconda3\\lib\\site-packages\\ipykernel\\__main__.py:3: DtypeWarning: Columns (18) have mixed types. Specify dtype option on import or set low_memory=False.\n",
      "  app.launch_new_instance()\n",
      "C:\\ProgramData\\Anaconda3\\lib\\site-packages\\ipykernel\\__main__.py:3: DtypeWarning: Columns (13,17) have mixed types. Specify dtype option on import or set low_memory=False.\n",
      "  app.launch_new_instance()\n"
     ]
    },
    {
     "name": "stdout",
     "output_type": "stream",
     "text": [
      "[49630.287000000004, 49392.059999999998, 49100.781999999992, 48829.990999999995, 48558.470000000001, 48270.328999999998, 65522.260999999999, 64780.368000000002, 129315.33200000002, 127474.38900000002, 127620.59600000002, 128084.00700000003, 126898.55100000004, 125300.76700000004, 125311.42400000003, 122245.64600000004, 121018.02300000004, 119742.46700000006, 119228.78100000006, 113651.36100000008, 117134.83400000006, 120166.85700000005, 119077.80500000005, 141484.52100000001, 141714.99300000005, 143485.68700000003, 144009.37000000005, 144178.02600000004, 145552.06400000004, 145794.84000000008, 146413.39300000004, 144903.10400000005, 141128.32900000006, 144569.7790000001, 145646.80900000007, 146517.81900000008, 148127.13100000008, 148679.36500000008, 148607.96500000008, 195812.78700000007, 193482.02300000007, 191005.20900000006, 189271.48100000003, 183752.35500000007, 181931.11900000006, 182963.92000000004, 192637.65500000003, 195956.24300000007, 194427.81600000011, 193370.18200000003, 188178.36300000007, 186982.08299999998, 184758.84300000011, 186179.22500000006, 185103.41900000005, 181409.05200000008, 184188.68200000009, 185623.12300000014, 179772.26600000006, 164185.13300000003]\n",
      "{'PAYCHEX INC': 0, 'S P X CORP': 0, 'MARSH & MCLENNAN COS INC': 0, 'MANITOWOC CO INC': 0, 'STRYKER CORP': 0, 'LEGG MASON INC': 0, 'PROGRESSIVE CORP OH': 0, 'ANADARKO PETROLEUM CORP': 0, 'MEDTRONIC INC': 0, 'ADVANCED MICRO DEVICES INC': 0, 'V F CORP': 0, 'MCDONALDS CORP': 0, 'TOTAL SYSTEM SERVICES INC': 0, 'ECOLAB INC': 0}\n",
      "{'HARRIS CORP': 0, 'STAPLES INC': 0, 'TOTAL SYSTEM SERVICES INC': 905, 'ECOLAB INC': -2061, 'MEREDITH CORP': 46, 'LILLY ELI & CO': -906, 'INTEL CORP': 0, 'ALTERA CORP': 0, 'V F CORP': 1202, 'MCDONALDS CORP': -3109, 'PROGRESSIVE CORP OH': 54, 'ANADARKO PETROLEUM CORP': -1060, 'PAYCHEX INC': 483, 'S P X CORP': -2422, 'MEDTRONIC INC': 2126, 'ADVANCED MICRO DEVICES INC': -4006, 'STRYKER CORP': 301, 'LEGG MASON INC': -546}\n",
      "584890.473\n",
      "start:  20071009\n"
     ]
    }
   ],
   "source": [
    "start_date = date_in_data[4960]\n",
    "end_date = date_in_data[5300]\n",
    "result = backtest(start_date, end_date, 10)\n"
   ]
  },
  {
   "cell_type": "code",
   "execution_count": 64,
   "metadata": {
    "collapsed": false
   },
   "outputs": [
    {
     "data": {
      "text/plain": [
       "20090903"
      ]
     },
     "execution_count": 64,
     "metadata": {},
     "output_type": "execute_result"
    }
   ],
   "source": [
    "date_in_data[4960]"
   ]
  },
  {
   "cell_type": "code",
   "execution_count": 45,
   "metadata": {
    "collapsed": false
   },
   "outputs": [
    {
     "data": {
      "text/plain": [
       "20111025"
      ]
     },
     "execution_count": 45,
     "metadata": {},
     "output_type": "execute_result"
    }
   ],
   "source": [
    "date_in_data[5500]"
   ]
  },
  {
   "cell_type": "code",
   "execution_count": 236,
   "metadata": {
    "collapsed": false
   },
   "outputs": [
    {
     "data": {
      "text/plain": [
       "[<matplotlib.lines.Line2D at 0x1e96fe10>]"
      ]
     },
     "execution_count": 236,
     "metadata": {},
     "output_type": "execute_result"
    },
    {
     "data": {
      "image/png": "[encoded data removed]",
      "text/plain": [
       "<matplotlib.figure.Figure at 0x1e96f828>"
      ]
     },
     "metadata": {},
     "output_type": "display_data"
    }
   ],
   "source": [
    "x = range(len(result[0]))\n",
    "plt.plot(x,result[0],color = 'blue')\n",
    "plt.plot(x,result[1], color =  'red')"
   ]
  }
 ],
 "metadata": {
  "kernelspec": {
   "display_name": "Python 3",
   "language": "python",
   "name": "python3"
  },
  "language_info": {
   "codemirror_mode": {
    "name": "ipython",
    "version": 3
   },
   "file_extension": ".py",
   "mimetype": "text/x-python",
   "name": "python",
   "nbconvert_exporter": "python",
   "pygments_lexer": "ipython3",
   "version": "3.6.0"
  }
 },
 "nbformat": 4,
 "nbformat_minor": 2
}
